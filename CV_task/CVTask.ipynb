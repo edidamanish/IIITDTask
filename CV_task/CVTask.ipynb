{
 "cells": [
  {
   "cell_type": "markdown",
   "metadata": {},
   "source": [
    "### Importing packages here"
   ]
  },
  {
   "cell_type": "code",
   "execution_count": 2,
   "metadata": {
    "colab": {
     "base_uri": "https://localhost:8080/",
     "height": 34
    },
    "colab_type": "code",
    "id": "TAZi6tlQPnR7",
    "outputId": "e32c92f1-3c32-4a42-fd4b-bbf66f02ee37"
   },
   "outputs": [
    {
     "name": "stderr",
     "output_type": "stream",
     "text": [
      "Using TensorFlow backend.\n"
     ]
    }
   ],
   "source": [
    "import numpy as np\n",
    "import matplotlib.pyplot as plt\n",
    "import os\n",
    "import cv2\n",
    "import tqdm\n",
    "import random\n",
    "import pandas as pd\n",
    "import pickle as pkl\n",
    "from keras.utils.np_utils import to_categorical # convert to one-hot-encoding\n",
    "from keras.models import Sequential\n",
    "from keras.layers import Dense, Dropout, Flatten, Conv2D, MaxPool2D\n",
    "from keras.optimizers import RMSprop\n",
    "from keras.preprocessing.image import ImageDataGenerator\n",
    "from keras.callbacks import ReduceLROnPlateau, ModelCheckpoint"
   ]
  },
  {
   "cell_type": "markdown",
   "metadata": {},
   "source": [
    "### Loading the folder given in the task here"
   ]
  },
  {
   "cell_type": "code",
   "execution_count": 3,
   "metadata": {
    "colab": {
     "base_uri": "https://localhost:8080/",
     "height": 85
    },
    "colab_type": "code",
    "id": "SMILbrx8QrI_",
    "outputId": "9f3cbd74-79a6-4dfb-d32a-91b0c3a476ae"
   },
   "outputs": [
    {
     "data": {
      "text/plain": [
       "['train_label.pkl',\n",
       " 'train_image.pkl',\n",
       " 'test_image.pkl',\n",
       " 'hitkul(sample_submission).csv']"
      ]
     },
     "execution_count": 3,
     "metadata": {
      "tags": []
     },
     "output_type": "execute_result"
    }
   ],
   "source": [
    "fol_dir = 'Vision_task_dataset_public/'\n",
    "os.listdir(fol_dir)"
   ]
  },
  {
   "cell_type": "markdown",
   "metadata": {},
   "source": [
    "### Loading training data here"
   ]
  },
  {
   "cell_type": "code",
   "execution_count": 0,
   "metadata": {
    "colab": {},
    "colab_type": "code",
    "id": "PpUu_gh_Q7t3"
   },
   "outputs": [],
   "source": [
    "with open(fol_dir+'train_image.pkl', 'rb') as f:\n",
    "    train_image = pkl.load(f)\n",
    "with open(fol_dir+'train_label.pkl', 'rb') as f:\n",
    "    train_label = pkl.load(f)"
   ]
  },
  {
   "cell_type": "markdown",
   "metadata": {},
   "source": [
    "### Checking the length of the traing data"
   ]
  },
  {
   "cell_type": "code",
   "execution_count": 5,
   "metadata": {
    "colab": {
     "base_uri": "https://localhost:8080/",
     "height": 34
    },
    "colab_type": "code",
    "id": "fz-jJ4UKQ9zr",
    "outputId": "884850f1-dd1d-4b65-ed82-d7198edf6458"
   },
   "outputs": [
    {
     "name": "stdout",
     "output_type": "stream",
     "text": [
      "8000   8000\n"
     ]
    }
   ],
   "source": [
    "print(len(train_image), \" \", len(train_label))"
   ]
  },
  {
   "cell_type": "markdown",
   "metadata": {},
   "source": [
    "### Checking the dimensions of each image. Found out that each image was of dimension by taking the square root of this 28 x 28 x 1 "
   ]
  },
  {
   "cell_type": "code",
   "execution_count": 6,
   "metadata": {
    "colab": {
     "base_uri": "https://localhost:8080/",
     "height": 34
    },
    "colab_type": "code",
    "id": "u5Pn0IF7SYIc",
    "outputId": "abce16b4-ea73-48be-acb3-31309a99c88b"
   },
   "outputs": [
    {
     "data": {
      "text/plain": [
       "784"
      ]
     },
     "execution_count": 6,
     "metadata": {
      "tags": []
     },
     "output_type": "execute_result"
    }
   ],
   "source": [
    "len(train_image[0])\n"
   ]
  },
  {
   "cell_type": "markdown",
   "metadata": {},
   "source": [
    "### Viewing some of the sample images to see what we are dealing with"
   ]
  },
  {
   "cell_type": "code",
   "execution_count": 7,
   "metadata": {
    "colab": {
     "base_uri": "https://localhost:8080/",
     "height": 1753
    },
    "colab_type": "code",
    "id": "s7WWYA_CS2bz",
    "outputId": "78eb83a6-a6ac-462f-a1c9-2f1ae1ec73b1"
   },
   "outputs": [
    {
     "data": {
      "image/png": "[encoded data removed]",
      "text/plain": [
       "<Figure size 576x396 with 1 Axes>"
      ]
     },
     "metadata": {
      "tags": []
     },
     "output_type": "display_data"
    },
    {
     "name": "stdout",
     "output_type": "stream",
     "text": [
      "Label for the image is  6\n"
     ]
    },
    {
     "data": {
      "image/png": "[encoded data removed]",
      "text/plain": [
       "<Figure size 576x396 with 1 Axes>"
      ]
     },
     "metadata": {
      "tags": []
     },
     "output_type": "display_data"
    },
    {
     "name": "stdout",
     "output_type": "stream",
     "text": [
      "Label for the image is  6\n"
     ]
    },
    {
     "data": {
      "image/png": "[encoded data removed]",
      "text/plain": [
       "<Figure size 576x396 with 1 Axes>"
      ]
     },
     "metadata": {
      "tags": []
     },
     "output_type": "display_data"
    },
    {
     "name": "stdout",
     "output_type": "stream",
     "text": [
      "Label for the image is  2\n"
     ]
    },
    {
     "data": {
      "image/png": "[encoded data removed]",
      "text/plain": [
       "<Figure size 576x396 with 1 Axes>"
      ]
     },
     "metadata": {
      "tags": []
     },
     "output_type": "display_data"
    },
    {
     "name": "stdout",
     "output_type": "stream",
     "text": [
      "Label for the image is  6\n"
     ]
    },
    {
     "data": {
      "image/png": "[encoded data removed]",
      "text/plain": [
       "<Figure size 576x396 with 1 Axes>"
      ]
     },
     "metadata": {
      "tags": []
     },
     "output_type": "display_data"
    },
    {
     "name": "stdout",
     "output_type": "stream",
     "text": [
      "Label for the image is  6\n"
     ]
    }
   ],
   "source": [
    "rnd_lst = random.sample(range(0, 8000), 8000) # Created a list of of random numbers between 1 and 8000 which \n",
    "                                              # was used to shuffle my training data\n",
    "\n",
    "for i in range(5):\n",
    "    x = np.asarray(train_image[rnd_lst[i]])\n",
    "    x = np.reshape(x, (28,28))\n",
    "    plt.imshow(x); plt.show()\n",
    "    print(\"Label for the image is \",train_label[rnd_lst[i]])"
   ]
  },
  {
   "cell_type": "markdown",
   "metadata": {},
   "source": [
    "### Created different lists for X_train, y_train, X_test and y_test.....\n",
    "#### Note : Here X_test and y_test are validation data taken from training data"
   ]
  },
  {
   "cell_type": "code",
   "execution_count": 0,
   "metadata": {
    "colab": {},
    "colab_type": "code",
    "id": "sGN2PdoNTHbA"
   },
   "outputs": [],
   "source": [
    "X_train = []\n",
    "y_train =[]\n",
    "X_test =[]\n",
    "y_test = []\n",
    "for i in range(0, 6000):\n",
    "    x = np.array(train_image[rnd_lst[i]])\n",
    "    x = x/255.0\n",
    "    X_train.append(x)\n",
    "    y_train.append(train_label[rnd_lst[i]])\n",
    "\n",
    "for i in range(6000, 8000):\n",
    "    x = np.array(train_image[rnd_lst[i]])\n",
    "    x = x/255.0\n",
    "    X_test.append(x)\n",
    "    y_test.append(train_label[rnd_lst[i]])\n",
    "\n"
   ]
  },
  {
   "cell_type": "markdown",
   "metadata": {},
   "source": [
    "### Plotted the bargraph to count the number of samples in each category to check if it is balanced or not"
   ]
  },
  {
   "cell_type": "code",
   "execution_count": 9,
   "metadata": {
    "colab": {
     "base_uri": "https://localhost:8080/",
     "height": 401
    },
    "colab_type": "code",
    "id": "zn2ub63SThIq",
    "outputId": "a056eff4-07c6-4841-e9ae-faf1475c01d8"
   },
   "outputs": [
    {
     "name": "stderr",
     "output_type": "stream",
     "text": [
      "/usr/local/lib/python3.6/dist-packages/seaborn/categorical.py:1428: FutureWarning: remove_na is deprecated and is a private function. Do not use.\n",
      "  stat_data = remove_na(group_data)\n"
     ]
    },
    {
     "data": {
      "image/png": "[encoded data removed]",
      "text/plain": [
       "<Figure size 576x396 with 1 Axes>"
      ]
     },
     "metadata": {
      "tags": []
     },
     "output_type": "display_data"
    }
   ],
   "source": [
    "import seaborn as sns\n",
    "g = sns.countplot(y_test)\n"
   ]
  },
  {
   "cell_type": "markdown",
   "metadata": {},
   "source": [
    "### reshaped the samples in X_train and X_test list to 28x28x1 so that I can input them into my Convolutional Neural Network Models\n",
    "\n",
    "### Also I changed the label \"6\" to \"1\" so that when one hot encoding, it would be easier for me."
   ]
  },
  {
   "cell_type": "code",
   "execution_count": 0,
   "metadata": {
    "colab": {},
    "colab_type": "code",
    "id": "QK_acoccxav5"
   },
   "outputs": [],
   "source": [
    "for i in range(0, 6000):\n",
    "    X_train[i] = X_train[i].reshape( 28, 28, 1)\n",
    "\n",
    "for i in range(0, 2000):\n",
    "    X_test[i] = X_test[i].reshape( 28, 28, 1)\n",
    "  \n",
    "for i in range(0, 6000):\n",
    "    if(y_train[i] == 6):\n",
    "        y_train[i] = 1\n",
    "for i in range(0, 2000):\n",
    "    if(y_test[i] == 6):\n",
    "        y_test[i] = 1\n",
    "  "
   ]
  },
  {
   "cell_type": "markdown",
   "metadata": {},
   "source": [
    "### One hot encoded my labels here"
   ]
  },
  {
   "cell_type": "code",
   "execution_count": 0,
   "metadata": {
    "colab": {},
    "colab_type": "code",
    "id": "cYFZCIKeyPCA"
   },
   "outputs": [],
   "source": [
    "y_train = to_categorical(y_train, num_classes = 4)\n",
    "y_test = to_categorical(y_test, num_classes = 4)"
   ]
  },
  {
   "cell_type": "markdown",
   "metadata": {},
   "source": [
    "### Checked the shape of my y_train"
   ]
  },
  {
   "cell_type": "code",
   "execution_count": 12,
   "metadata": {
    "colab": {
     "base_uri": "https://localhost:8080/",
     "height": 34
    },
    "colab_type": "code",
    "id": "0IXFoWTF4hMj",
    "outputId": "636fa323-fc39-4c7d-bd43-b078af87f80d"
   },
   "outputs": [
    {
     "data": {
      "text/plain": [
       "(4,)"
      ]
     },
     "execution_count": 12,
     "metadata": {
      "tags": []
     },
     "output_type": "execute_result"
    }
   ],
   "source": [
    "y_train[0].shape"
   ]
  },
  {
   "cell_type": "markdown",
   "metadata": {},
   "source": [
    "### Converted X_train and X_test to numpy arrays to input them into my CNN model"
   ]
  },
  {
   "cell_type": "code",
   "execution_count": 0,
   "metadata": {
    "colab": {},
    "colab_type": "code",
    "id": "6ZQYw2122WDY"
   },
   "outputs": [],
   "source": [
    "X_train = np.array(X_train)\n",
    "X_test = np.array(X_test)"
   ]
  },
  {
   "cell_type": "markdown",
   "metadata": {
    "colab": {},
    "colab_type": "code",
    "id": "X21B2BmHyuBE"
   },
   "source": [
    "### Coded my simple deep CNN model here... I didn't use complex models like resnet or vgg because of the small dimension of my training data"
   ]
  },
  {
   "cell_type": "code",
   "execution_count": 14,
   "metadata": {
    "colab": {
     "base_uri": "https://localhost:8080/",
     "height": 138
    },
    "colab_type": "code",
    "id": "ODsnCpvb1WHp",
    "outputId": "77ff1b80-da30-4458-cb6d-69e3a7f499a0"
   },
   "outputs": [
    {
     "name": "stdout",
     "output_type": "stream",
     "text": [
      "WARNING:tensorflow:From /usr/local/lib/python3.6/dist-packages/tensorflow/python/framework/op_def_library.py:263: colocate_with (from tensorflow.python.framework.ops) is deprecated and will be removed in a future version.\n",
      "Instructions for updating:\n",
      "Colocations handled automatically by placer.\n",
      "WARNING:tensorflow:From /usr/local/lib/python3.6/dist-packages/keras/backend/tensorflow_backend.py:3445: calling dropout (from tensorflow.python.ops.nn_ops) with keep_prob is deprecated and will be removed in a future version.\n",
      "Instructions for updating:\n",
      "Please use `rate` instead of `keep_prob`. Rate should be set to `rate = 1 - keep_prob`.\n"
     ]
    }
   ],
   "source": [
    "model = Sequential()\n",
    "\n",
    "model.add(Conv2D(filters = 32, kernel_size = (5,5),padding = 'Same', \n",
    "                 activation ='relu', input_shape = (28,28,1)))\n",
    "model.add(Conv2D(filters = 32, kernel_size = (5,5),padding = 'Same', \n",
    "                 activation ='relu'))\n",
    "model.add(MaxPool2D(pool_size=(2,2)))\n",
    "model.add(Dropout(0.25))\n",
    "\n",
    "\n",
    "model.add(Conv2D(filters = 64, kernel_size = (3,3),padding = 'Same', \n",
    "                 activation ='relu'))\n",
    "model.add(Conv2D(filters = 64, kernel_size = (3,3),padding = 'Same', \n",
    "                 activation ='relu'))\n",
    "model.add(MaxPool2D(pool_size=(2,2), strides=(2,2)))\n",
    "model.add(Dropout(0.25))\n",
    "\n",
    "\n",
    "model.add(Flatten())\n",
    "model.add(Dense(256, activation = \"relu\"))\n",
    "model.add(Dropout(0.4))\n",
    "model.add(Dense(4, activation = \"softmax\"))"
   ]
  },
  {
   "cell_type": "markdown",
   "metadata": {},
   "source": [
    "### Defined optimizer here and defined how I would like my model to be compiled with \"categorical crossentropy\" loss"
   ]
  },
  {
   "cell_type": "code",
   "execution_count": 0,
   "metadata": {
    "colab": {},
    "colab_type": "code",
    "id": "Q254XZmR1hJa"
   },
   "outputs": [],
   "source": [
    "optimizer = RMSprop(lr=0.001, rho=0.9, epsilon=1e-08, decay=0.0)\n",
    "model.compile(optimizer = optimizer , loss = \"categorical_crossentropy\", metrics=[\"accuracy\"])"
   ]
  },
  {
   "cell_type": "markdown",
   "metadata": {},
   "source": [
    "### The below code is callback feature in keras which reduces the learning rate once the metric has stopped imporving. "
   ]
  },
  {
   "cell_type": "code",
   "execution_count": 0,
   "metadata": {
    "colab": {},
    "colab_type": "code",
    "id": "Mi27zAPW1nV2"
   },
   "outputs": [],
   "source": [
    "learning_rate_reduction = ReduceLROnPlateau(monitor='val_acc',patience=3, verbose=1, factor=0.5, min_lr=0.00001)\n"
   ]
  },
  {
   "cell_type": "markdown",
   "metadata": {},
   "source": [
    "### Initialised the number of epochs and batch size here"
   ]
  },
  {
   "cell_type": "code",
   "execution_count": 0,
   "metadata": {
    "colab": {},
    "colab_type": "code",
    "id": "6f1PlIa71rMZ"
   },
   "outputs": [],
   "source": [
    "epochs = 60\n",
    "batch_size = 120"
   ]
  },
  {
   "cell_type": "markdown",
   "metadata": {},
   "source": [
    "### The below code helps in augmenting my sample training images. This can be changed and experimented on how it affects the training and all."
   ]
  },
  {
   "cell_type": "code",
   "execution_count": 0,
   "metadata": {
    "colab": {},
    "colab_type": "code",
    "id": "q2eKqY1h1xWP"
   },
   "outputs": [],
   "source": [
    "datagen = ImageDataGenerator(\n",
    "        featurewise_center=False,  # set input mean to 0 over the dataset\n",
    "        samplewise_center=False,  # set each sample mean to 0\n",
    "        featurewise_std_normalization=False,  # divide inputs by std of the dataset\n",
    "        samplewise_std_normalization=False,  # divide each input by its std\n",
    "        zca_whitening=False,  # apply ZCA whitening\n",
    "        rotation_range=10,  # randomly rotate images in the range (degrees, 0 to 180)\n",
    "        zoom_range = 0.1, # Randomly zoom image \n",
    "        width_shift_range=0.1,  # randomly shift images horizontally (fraction of total width)\n",
    "        height_shift_range=0.1,  # randomly shift images vertically (fraction of total height)\n",
    "        horizontal_flip=True,  # randomly flip images\n",
    "        vertical_flip=True)  # randomly flip images\n",
    "\n",
    "\n",
    "datagen.fit(X_train)\n"
   ]
  },
  {
   "cell_type": "markdown",
   "metadata": {},
   "source": [
    "### the below checkpoint feature in keras helps me to save the best weights only for which the epoch showed minimum validation loss"
   ]
  },
  {
   "cell_type": "code",
   "execution_count": 0,
   "metadata": {
    "colab": {},
    "colab_type": "code",
    "id": "Hi-N7srix8TO"
   },
   "outputs": [],
   "source": [
    "checkpoint=ModelCheckpoint('MIDASTASKMODEL.h5',monitor='val_loss',verbose=0,save_best_only=True,mode='auto')"
   ]
  },
  {
   "cell_type": "markdown",
   "metadata": {},
   "source": [
    "### Ran the model here"
   ]
  },
  {
   "cell_type": "code",
   "execution_count": 20,
   "metadata": {
    "colab": {
     "base_uri": "https://localhost:8080/",
     "height": 2338
    },
    "colab_type": "code",
    "id": "XO6IJXWw12n_",
    "outputId": "cd8540d3-79b1-45fc-9d35-c1745dd04283"
   },
   "outputs": [
    {
     "name": "stdout",
     "output_type": "stream",
     "text": [
      "WARNING:tensorflow:From /usr/local/lib/python3.6/dist-packages/tensorflow/python/ops/math_ops.py:3066: to_int32 (from tensorflow.python.ops.math_ops) is deprecated and will be removed in a future version.\n",
      "Instructions for updating:\n",
      "Use tf.cast instead.\n",
      "Epoch 1/60\n",
      "50/50 [==============================] - 49s 980ms/step - loss: 1.0646 - acc: 0.5088 - val_loss: 0.7342 - val_acc: 0.7000\n",
      "Epoch 2/60\n",
      "50/50 [==============================] - 48s 954ms/step - loss: 0.8372 - acc: 0.6440 - val_loss: 0.6281 - val_acc: 0.7395\n",
      "Epoch 3/60\n",
      "50/50 [==============================] - 48s 957ms/step - loss: 0.7677 - acc: 0.6783 - val_loss: 0.6406 - val_acc: 0.7220\n",
      "Epoch 4/60\n",
      "50/50 [==============================] - 48s 952ms/step - loss: 0.7233 - acc: 0.7008 - val_loss: 0.5620 - val_acc: 0.7600\n",
      "Epoch 5/60\n",
      "50/50 [==============================] - 48s 960ms/step - loss: 0.6904 - acc: 0.7137 - val_loss: 0.5284 - val_acc: 0.7915\n",
      "Epoch 6/60\n",
      "50/50 [==============================] - 49s 974ms/step - loss: 0.6612 - acc: 0.7320 - val_loss: 0.5097 - val_acc: 0.7915\n",
      "Epoch 7/60\n",
      "50/50 [==============================] - 48s 961ms/step - loss: 0.6362 - acc: 0.7407 - val_loss: 0.5090 - val_acc: 0.8045\n",
      "Epoch 8/60\n",
      "50/50 [==============================] - 48s 953ms/step - loss: 0.6220 - acc: 0.7510 - val_loss: 0.4884 - val_acc: 0.8050\n",
      "Epoch 9/60\n",
      "50/50 [==============================] - 48s 956ms/step - loss: 0.6013 - acc: 0.7580 - val_loss: 0.4816 - val_acc: 0.8045\n",
      "Epoch 10/60\n",
      "50/50 [==============================] - 48s 957ms/step - loss: 0.5851 - acc: 0.7622 - val_loss: 0.4462 - val_acc: 0.8200\n",
      "Epoch 11/60\n",
      "50/50 [==============================] - 48s 956ms/step - loss: 0.5888 - acc: 0.7642 - val_loss: 0.4494 - val_acc: 0.8320\n",
      "Epoch 12/60\n",
      "50/50 [==============================] - 47s 949ms/step - loss: 0.5561 - acc: 0.7788 - val_loss: 0.4788 - val_acc: 0.8040\n",
      "Epoch 13/60\n",
      "50/50 [==============================] - 48s 951ms/step - loss: 0.5533 - acc: 0.7797 - val_loss: 0.5674 - val_acc: 0.7675\n",
      "Epoch 14/60\n",
      "50/50 [==============================] - 47s 948ms/step - loss: 0.5482 - acc: 0.7802 - val_loss: 0.5138 - val_acc: 0.8075\n",
      "\n",
      "Epoch 00014: ReduceLROnPlateau reducing learning rate to 0.0005000000237487257.\n",
      "Epoch 15/60\n",
      "50/50 [==============================] - 47s 948ms/step - loss: 0.5083 - acc: 0.7987 - val_loss: 0.4026 - val_acc: 0.8535\n",
      "Epoch 16/60\n",
      "50/50 [==============================] - 48s 956ms/step - loss: 0.4982 - acc: 0.8017 - val_loss: 0.4017 - val_acc: 0.8520\n",
      "Epoch 17/60\n",
      "50/50 [==============================] - 48s 951ms/step - loss: 0.5021 - acc: 0.8037 - val_loss: 0.3916 - val_acc: 0.8545\n",
      "Epoch 18/60\n",
      "50/50 [==============================] - 48s 961ms/step - loss: 0.4852 - acc: 0.8065 - val_loss: 0.3951 - val_acc: 0.8465\n",
      "Epoch 19/60\n",
      "50/50 [==============================] - 48s 955ms/step - loss: 0.4949 - acc: 0.8057 - val_loss: 0.3871 - val_acc: 0.8610\n",
      "Epoch 20/60\n",
      "50/50 [==============================] - 48s 959ms/step - loss: 0.4790 - acc: 0.8108 - val_loss: 0.3822 - val_acc: 0.8620\n",
      "Epoch 21/60\n",
      "50/50 [==============================] - 48s 961ms/step - loss: 0.4750 - acc: 0.8090 - val_loss: 0.4000 - val_acc: 0.8620\n",
      "Epoch 22/60\n",
      "50/50 [==============================] - 49s 970ms/step - loss: 0.4723 - acc: 0.8157 - val_loss: 0.3906 - val_acc: 0.8550\n",
      "Epoch 23/60\n",
      "50/50 [==============================] - 48s 962ms/step - loss: 0.4629 - acc: 0.8175 - val_loss: 0.3879 - val_acc: 0.8575\n",
      "\n",
      "Epoch 00023: ReduceLROnPlateau reducing learning rate to 0.0002500000118743628.\n",
      "Epoch 24/60\n",
      "50/50 [==============================] - 48s 962ms/step - loss: 0.4589 - acc: 0.8222 - val_loss: 0.3752 - val_acc: 0.8570\n",
      "Epoch 25/60\n",
      "50/50 [==============================] - 48s 961ms/step - loss: 0.4546 - acc: 0.8238 - val_loss: 0.3671 - val_acc: 0.8635\n",
      "Epoch 26/60\n",
      "50/50 [==============================] - 48s 961ms/step - loss: 0.4469 - acc: 0.8245 - val_loss: 0.3770 - val_acc: 0.8585\n",
      "Epoch 27/60\n",
      "50/50 [==============================] - 48s 962ms/step - loss: 0.4403 - acc: 0.8262 - val_loss: 0.3664 - val_acc: 0.8655\n",
      "Epoch 28/60\n",
      "50/50 [==============================] - 49s 970ms/step - loss: 0.4368 - acc: 0.8342 - val_loss: 0.3836 - val_acc: 0.8620\n",
      "Epoch 29/60\n",
      "50/50 [==============================] - 49s 984ms/step - loss: 0.4379 - acc: 0.8282 - val_loss: 0.3744 - val_acc: 0.8625\n",
      "Epoch 30/60\n",
      "50/50 [==============================] - 48s 963ms/step - loss: 0.4424 - acc: 0.8268 - val_loss: 0.3713 - val_acc: 0.8600\n",
      "\n",
      "Epoch 00030: ReduceLROnPlateau reducing learning rate to 0.0001250000059371814.\n",
      "Epoch 31/60\n",
      "50/50 [==============================] - 48s 958ms/step - loss: 0.4325 - acc: 0.8307 - val_loss: 0.3632 - val_acc: 0.8650\n",
      "Epoch 32/60\n",
      "50/50 [==============================] - 48s 961ms/step - loss: 0.4319 - acc: 0.8313 - val_loss: 0.3589 - val_acc: 0.8660\n",
      "Epoch 33/60\n",
      "50/50 [==============================] - 48s 962ms/step - loss: 0.4214 - acc: 0.8403 - val_loss: 0.3700 - val_acc: 0.8635\n",
      "Epoch 34/60\n",
      "50/50 [==============================] - 48s 964ms/step - loss: 0.4195 - acc: 0.8380 - val_loss: 0.3735 - val_acc: 0.8660\n",
      "Epoch 35/60\n",
      "50/50 [==============================] - 49s 979ms/step - loss: 0.4317 - acc: 0.8275 - val_loss: 0.3724 - val_acc: 0.8630\n",
      "\n",
      "Epoch 00035: ReduceLROnPlateau reducing learning rate to 6.25000029685907e-05.\n",
      "Epoch 36/60\n",
      "50/50 [==============================] - 49s 976ms/step - loss: 0.4231 - acc: 0.8342 - val_loss: 0.3550 - val_acc: 0.8680\n",
      "Epoch 37/60\n",
      "50/50 [==============================] - 48s 965ms/step - loss: 0.4194 - acc: 0.8362 - val_loss: 0.3595 - val_acc: 0.8685\n",
      "Epoch 38/60\n",
      "50/50 [==============================] - 49s 972ms/step - loss: 0.4130 - acc: 0.8442 - val_loss: 0.3653 - val_acc: 0.8675\n",
      "Epoch 39/60\n",
      "50/50 [==============================] - 49s 973ms/step - loss: 0.4253 - acc: 0.8360 - val_loss: 0.3630 - val_acc: 0.8660\n",
      "Epoch 40/60\n",
      "50/50 [==============================] - 49s 971ms/step - loss: 0.4148 - acc: 0.8443 - val_loss: 0.3566 - val_acc: 0.8700\n",
      "Epoch 41/60\n",
      "50/50 [==============================] - 49s 981ms/step - loss: 0.4244 - acc: 0.8353 - val_loss: 0.3574 - val_acc: 0.8685\n",
      "Epoch 42/60\n",
      "50/50 [==============================] - 49s 975ms/step - loss: 0.4159 - acc: 0.8388 - val_loss: 0.3525 - val_acc: 0.8695\n",
      "Epoch 43/60\n",
      "50/50 [==============================] - 49s 977ms/step - loss: 0.4139 - acc: 0.8402 - val_loss: 0.3563 - val_acc: 0.8720\n",
      "Epoch 44/60\n",
      "50/50 [==============================] - 48s 970ms/step - loss: 0.4177 - acc: 0.8378 - val_loss: 0.3561 - val_acc: 0.8695\n",
      "Epoch 45/60\n",
      "50/50 [==============================] - 49s 970ms/step - loss: 0.4121 - acc: 0.8392 - val_loss: 0.3565 - val_acc: 0.8720\n",
      "Epoch 46/60\n",
      "50/50 [==============================] - 48s 968ms/step - loss: 0.4189 - acc: 0.8375 - val_loss: 0.3561 - val_acc: 0.8685\n",
      "\n",
      "Epoch 00046: ReduceLROnPlateau reducing learning rate to 3.125000148429535e-05.\n",
      "Epoch 47/60\n",
      "50/50 [==============================] - 49s 973ms/step - loss: 0.4128 - acc: 0.8420 - val_loss: 0.3584 - val_acc: 0.8685\n",
      "Epoch 48/60\n",
      "50/50 [==============================] - 49s 990ms/step - loss: 0.4152 - acc: 0.8450 - val_loss: 0.3537 - val_acc: 0.8690\n",
      "Epoch 49/60\n",
      "50/50 [==============================] - 48s 969ms/step - loss: 0.4117 - acc: 0.8422 - val_loss: 0.3529 - val_acc: 0.8695\n",
      "\n",
      "Epoch 00049: ReduceLROnPlateau reducing learning rate to 1.5625000742147677e-05.\n",
      "Epoch 50/60\n",
      "50/50 [==============================] - 48s 965ms/step - loss: 0.4175 - acc: 0.8363 - val_loss: 0.3542 - val_acc: 0.8700\n",
      "Epoch 51/60\n",
      "50/50 [==============================] - 48s 965ms/step - loss: 0.4223 - acc: 0.8387 - val_loss: 0.3533 - val_acc: 0.8685\n",
      "Epoch 52/60\n",
      "50/50 [==============================] - 48s 961ms/step - loss: 0.4162 - acc: 0.8382 - val_loss: 0.3528 - val_acc: 0.8695\n",
      "\n",
      "Epoch 00052: ReduceLROnPlateau reducing learning rate to 1e-05.\n",
      "Epoch 53/60\n",
      "50/50 [==============================] - 48s 968ms/step - loss: 0.4159 - acc: 0.8388 - val_loss: 0.3524 - val_acc: 0.8685\n",
      "Epoch 54/60\n",
      "50/50 [==============================] - 49s 982ms/step - loss: 0.4113 - acc: 0.8393 - val_loss: 0.3530 - val_acc: 0.8685\n",
      "Epoch 55/60\n",
      "50/50 [==============================] - 48s 970ms/step - loss: 0.4096 - acc: 0.8407 - val_loss: 0.3550 - val_acc: 0.8690\n",
      "Epoch 56/60\n",
      "50/50 [==============================] - 49s 970ms/step - loss: 0.4089 - acc: 0.8412 - val_loss: 0.3530 - val_acc: 0.8690\n",
      "Epoch 57/60\n",
      "50/50 [==============================] - 48s 965ms/step - loss: 0.4071 - acc: 0.8432 - val_loss: 0.3527 - val_acc: 0.8685\n",
      "Epoch 58/60\n",
      "50/50 [==============================] - 48s 964ms/step - loss: 0.4084 - acc: 0.8400 - val_loss: 0.3531 - val_acc: 0.8690\n",
      "Epoch 59/60\n",
      "50/50 [==============================] - 48s 967ms/step - loss: 0.4008 - acc: 0.8415 - val_loss: 0.3555 - val_acc: 0.8695\n",
      "Epoch 60/60\n",
      "50/50 [==============================] - 48s 970ms/step - loss: 0.4079 - acc: 0.8368 - val_loss: 0.3542 - val_acc: 0.8700\n"
     ]
    }
   ],
   "source": [
    "history = model.fit_generator(datagen.flow(X_train,y_train, batch_size=batch_size),\n",
    "                              epochs = epochs, validation_data = (X_test,y_test),\n",
    "                              verbose = 1, steps_per_epoch=X_train.shape[0] // batch_size\n",
    "                              , callbacks=[learning_rate_reduction, checkpoint])"
   ]
  },
  {
   "cell_type": "markdown",
   "metadata": {},
   "source": [
    "### Printed the confusion matrix to check how well the model ran and how well each individual label was predicted"
   ]
  },
  {
   "cell_type": "code",
   "execution_count": 25,
   "metadata": {
    "colab": {
     "base_uri": "https://localhost:8080/",
     "height": 84
    },
    "colab_type": "code",
    "id": "BoO1395y2Gf_",
    "outputId": "fbcde42d-ea4e-4d9c-9abb-2af72e92a0cb"
   },
   "outputs": [
    {
     "name": "stdout",
     "output_type": "stream",
     "text": [
      "[[405  49  14  14]\n",
      " [ 42 404  40  11]\n",
      " [  7  46 454   5]\n",
      " [ 12  19   4 474]]\n"
     ]
    }
   ],
   "source": [
    "\n",
    "from sklearn.metrics import confusion_matrix\n",
    "from keras.models import load_model\n",
    "\n",
    "#Loading the best model here\n",
    "model1 = load_model('MIDASTASKMODEL.h5')\n",
    "\n",
    "# Predict the values from the validation dataset\n",
    "Y_pred = model1.predict(X_test)\n",
    "# Convert predictions classes to one hot vectors \n",
    "Y_pred_classes = np.argmax(Y_pred,axis = 1) \n",
    "# Convert validation observations to one hot vectors\n",
    "Y_true = np.argmax(y_test,axis = 1) \n",
    "# compute the confusion matrix\n",
    "confusion_mtx = confusion_matrix(Y_true, Y_pred_classes) \n",
    "# plot the confusion matrix\n",
    "print(confusion_mtx)\n",
    "#plot_confusion_matrix(confusion_mtx, classes = range(4)) "
   ]
  },
  {
   "cell_type": "markdown",
   "metadata": {},
   "source": [
    "### Plotted how training and validation loss as well as training and validation accuracy changes with each epoch to see where it went constant"
   ]
  },
  {
   "cell_type": "code",
   "execution_count": 26,
   "metadata": {
    "colab": {
     "base_uri": "https://localhost:8080/",
     "height": 347
    },
    "colab_type": "code",
    "id": "wb-ei_ns_tS1",
    "outputId": "1d69692d-1ea0-4b92-fe28-f5c715fc589a"
   },
   "outputs": [
    {
     "data": {
      "image/png": "[encoded data removed]",
      "text/plain": [
       "<Figure size 576x396 with 2 Axes>"
      ]
     },
     "metadata": {
      "tags": []
     },
     "output_type": "display_data"
    }
   ],
   "source": [
    "fig, ax = plt.subplots(2,1)\n",
    "ax[0].plot(history.history['loss'], color='b', label=\"Training loss\")\n",
    "ax[0].plot(history.history['val_loss'], color='r', label=\"validation loss\",axes =ax[0])\n",
    "legend = ax[0].legend(loc='best', shadow=True)\n",
    "\n",
    "ax[1].plot(history.history['acc'], color='b', label=\"Training accuracy\")\n",
    "ax[1].plot(history.history['val_acc'], color='r',label=\"Validation accuracy\")\n",
    "legend = ax[1].legend(loc='best', shadow=True)"
   ]
  },
  {
   "cell_type": "markdown",
   "metadata": {},
   "source": [
    "### Loaded the test data"
   ]
  },
  {
   "cell_type": "code",
   "execution_count": 0,
   "metadata": {
    "colab": {},
    "colab_type": "code",
    "id": "C7wqe4ka_-SG"
   },
   "outputs": [],
   "source": [
    "with open(fol_dir+'test_image.pkl', 'rb') as f:\n",
    "    test_image = pkl.load(f)\n"
   ]
  },
  {
   "cell_type": "code",
   "execution_count": 64,
   "metadata": {
    "colab": {
     "base_uri": "https://localhost:8080/",
     "height": 34
    },
    "colab_type": "code",
    "id": "M3Dv2NISAJyb",
    "outputId": "703e05a5-7acc-4ce4-afe2-3bf75fdb5f97"
   },
   "outputs": [
    {
     "data": {
      "text/plain": [
       "2000"
      ]
     },
     "execution_count": 64,
     "metadata": {
      "tags": []
     },
     "output_type": "execute_result"
    }
   ],
   "source": [
    "len(test_image)"
   ]
  },
  {
   "cell_type": "markdown",
   "metadata": {},
   "source": [
    "### reshaped it in the same way as I reshaped the above training and validation data"
   ]
  },
  {
   "cell_type": "code",
   "execution_count": 0,
   "metadata": {
    "colab": {},
    "colab_type": "code",
    "id": "opZscnNQBK-J"
   },
   "outputs": [],
   "source": [
    "testX =[]\n",
    "for i in range(0, 2000):\n",
    "    x = np.array(test_image[i])\n",
    "    x = x/255.0\n",
    "    x = x.reshape( 28, 28, 1)\n",
    "    testX.append(x)\n",
    "testX = np.array(testX)"
   ]
  },
  {
   "cell_type": "markdown",
   "metadata": {},
   "source": [
    "### predicted the test labels with the help of the best model saved"
   ]
  },
  {
   "cell_type": "code",
   "execution_count": 0,
   "metadata": {
    "colab": {},
    "colab_type": "code",
    "id": "SRF1alP5Br-B"
   },
   "outputs": [],
   "source": [
    "testy = model1.predict(testX)"
   ]
  },
  {
   "cell_type": "markdown",
   "metadata": {},
   "source": [
    "### Got the index which indicates the max probability of it being the feature"
   ]
  },
  {
   "cell_type": "code",
   "execution_count": 73,
   "metadata": {
    "colab": {
     "base_uri": "https://localhost:8080/",
     "height": 34
    },
    "colab_type": "code",
    "id": "DudYYXCoCGci",
    "outputId": "b28d4c7f-7be8-46ab-fcc2-25e10c16b99e"
   },
   "outputs": [
    {
     "data": {
      "text/plain": [
       "[0, 0, 0, 0, 0, 0, 0, 0, 1, 0]"
      ]
     },
     "execution_count": 73,
     "metadata": {
      "tags": []
     },
     "output_type": "execute_result"
    }
   ],
   "source": [
    "testy_pred = []\n",
    "for i in range(0, len(testy)):\n",
    "    testy_pred.append(np.argmax(testy[i]))\n",
    "testy_pred[:10]   "
   ]
  },
  {
   "cell_type": "markdown",
   "metadata": {},
   "source": [
    "### plotted the images in test set and also printed out the predicted labels to check how well the model worked"
   ]
  },
  {
   "cell_type": "code",
   "execution_count": 74,
   "metadata": {
    "colab": {
     "base_uri": "https://localhost:8080/",
     "height": 3489
    },
    "colab_type": "code",
    "id": "qi5bUXFmCIr8",
    "outputId": "8a9ed3af-67ad-4296-c50a-9133d6728e0d"
   },
   "outputs": [
    {
     "data": {
      "image/png": "[encoded data removed]",
      "text/plain": [
       "<Figure size 576x396 with 1 Axes>"
      ]
     },
     "metadata": {
      "tags": []
     },
     "output_type": "display_data"
    },
    {
     "name": "stdout",
     "output_type": "stream",
     "text": [
      "Label for the image is  0\n"
     ]
    },
    {
     "data": {
      "image/png": "[encoded data removed]",
      "text/plain": [
       "<Figure size 576x396 with 1 Axes>"
      ]
     },
     "metadata": {
      "tags": []
     },
     "output_type": "display_data"
    },
    {
     "name": "stdout",
     "output_type": "stream",
     "text": [
      "Label for the image is  0\n"
     ]
    },
    {
     "data": {
      "image/png": "[encoded data removed]",
      "text/plain": [
       "<Figure size 576x396 with 1 Axes>"
      ]
     },
     "metadata": {
      "tags": []
     },
     "output_type": "display_data"
    },
    {
     "name": "stdout",
     "output_type": "stream",
     "text": [
      "Label for the image is  0\n"
     ]
    },
    {
     "data": {
      "image/png": "[encoded data removed]",
      "text/plain": [
       "<Figure size 576x396 with 1 Axes>"
      ]
     },
     "metadata": {
      "tags": []
     },
     "output_type": "display_data"
    },
    {
     "name": "stdout",
     "output_type": "stream",
     "text": [
      "Label for the image is  0\n"
     ]
    },
    {
     "data": {
      "image/png": "[encoded data removed]",
      "text/plain": [
       "<Figure size 576x396 with 1 Axes>"
      ]
     },
     "metadata": {
      "tags": []
     },
     "output_type": "display_data"
    },
    {
     "name": "stdout",
     "output_type": "stream",
     "text": [
      "Label for the image is  0\n"
     ]
    },
    {
     "data": {
      "image/png": "[encoded data removed]",
      "text/plain": [
       "<Figure size 576x396 with 1 Axes>"
      ]
     },
     "metadata": {
      "tags": []
     },
     "output_type": "display_data"
    },
    {
     "name": "stdout",
     "output_type": "stream",
     "text": [
      "Label for the image is  0\n"
     ]
    },
    {
     "data": {
      "image/png": "[encoded data removed]",
      "text/plain": [
       "<Figure size 576x396 with 1 Axes>"
      ]
     },
     "metadata": {
      "tags": []
     },
     "output_type": "display_data"
    },
    {
     "name": "stdout",
     "output_type": "stream",
     "text": [
      "Label for the image is  0\n"
     ]
    },
    {
     "data": {
      "image/png": "[encoded data removed]",
      "text/plain": [
       "<Figure size 576x396 with 1 Axes>"
      ]
     },
     "metadata": {
      "tags": []
     },
     "output_type": "display_data"
    },
    {
     "name": "stdout",
     "output_type": "stream",
     "text": [
      "Label for the image is  0\n"
     ]
    },
    {
     "data": {
      "image/png": "[encoded data removed]",
      "text/plain": [
       "<Figure size 576x396 with 1 Axes>"
      ]
     },
     "metadata": {
      "tags": []
     },
     "output_type": "display_data"
    },
    {
     "name": "stdout",
     "output_type": "stream",
     "text": [
      "Label for the image is  1\n"
     ]
    },
    {
     "data": {
      "image/png": "[encoded data removed]",
      "text/plain": [
       "<Figure size 576x396 with 1 Axes>"
      ]
     },
     "metadata": {
      "tags": []
     },
     "output_type": "display_data"
    },
    {
     "name": "stdout",
     "output_type": "stream",
     "text": [
      "Label for the image is  0\n"
     ]
    }
   ],
   "source": [
    "with open(fol_dir+'test_image.pkl', 'rb') as f:\n",
    "    test_image = pkl.load(f)\n",
    "for i in range(10):\n",
    "    x = np.asarray(test_image[i])\n",
    "    x = np.reshape(x, (28,28))\n",
    "    plt.imshow(x); plt.show()\n",
    "    print(\"Label for the image is \",testy_pred[i])"
   ]
  },
  {
   "cell_type": "markdown",
   "metadata": {},
   "source": [
    "### Here I created a list of dictionary with image index and predicted label... Also notice that I changed the label \"1\" to \"6\" since I changed it before training"
   ]
  },
  {
   "cell_type": "code",
   "execution_count": 0,
   "metadata": {
    "colab": {},
    "colab_type": "code",
    "id": "qqH-kDJPCUWE"
   },
   "outputs": [],
   "source": [
    "dict_lst =[]\n",
    "for i in range(0, len(testy)):\n",
    "    testy_pred = np.argmax(testy[i])\n",
    "    if(testy_pred == 1):\n",
    "        testy_pred = 6\n",
    "    dict_tmp = {'image_index':i, 'class':testy_pred}\n",
    "    dict_lst.append(dict_tmp)\n",
    "    "
   ]
  },
  {
   "cell_type": "markdown",
   "metadata": {},
   "source": [
    "### Created a dataframe here"
   ]
  },
  {
   "cell_type": "code",
   "execution_count": 0,
   "metadata": {
    "colab": {},
    "colab_type": "code",
    "id": "4mx2MeYPDWYj"
   },
   "outputs": [],
   "source": [
    "df = pd.DataFrame(dict_lst)"
   ]
  },
  {
   "cell_type": "code",
   "execution_count": 77,
   "metadata": {
    "colab": {
     "base_uri": "https://localhost:8080/",
     "height": 1969
    },
    "colab_type": "code",
    "id": "usxqx2rHDaXL",
    "outputId": "3d10ac51-0915-4824-af3c-bfa26a95ade3"
   },
   "outputs": [
    {
     "data": {
      "text/html": [
       "<div>\n",
       "<style scoped>\n",
       "    .dataframe tbody tr th:only-of-type {\n",
       "        vertical-align: middle;\n",
       "    }\n",
       "\n",
       "    .dataframe tbody tr th {\n",
       "        vertical-align: top;\n",
       "    }\n",
       "\n",
       "    .dataframe thead th {\n",
       "        text-align: right;\n",
       "    }\n",
       "</style>\n",
       "<table border=\"1\" class=\"dataframe\">\n",
       "  <thead>\n",
       "    <tr style=\"text-align: right;\">\n",
       "      <th></th>\n",
       "      <th>image_index</th>\n",
       "      <th>class</th>\n",
       "    </tr>\n",
       "  </thead>\n",
       "  <tbody>\n",
       "    <tr>\n",
       "      <th>0</th>\n",
       "      <td>0</td>\n",
       "      <td>0</td>\n",
       "    </tr>\n",
       "    <tr>\n",
       "      <th>1</th>\n",
       "      <td>1</td>\n",
       "      <td>0</td>\n",
       "    </tr>\n",
       "    <tr>\n",
       "      <th>2</th>\n",
       "      <td>2</td>\n",
       "      <td>0</td>\n",
       "    </tr>\n",
       "    <tr>\n",
       "      <th>3</th>\n",
       "      <td>3</td>\n",
       "      <td>0</td>\n",
       "    </tr>\n",
       "    <tr>\n",
       "      <th>4</th>\n",
       "      <td>4</td>\n",
       "      <td>0</td>\n",
       "    </tr>\n",
       "    <tr>\n",
       "      <th>5</th>\n",
       "      <td>5</td>\n",
       "      <td>0</td>\n",
       "    </tr>\n",
       "    <tr>\n",
       "      <th>6</th>\n",
       "      <td>6</td>\n",
       "      <td>0</td>\n",
       "    </tr>\n",
       "    <tr>\n",
       "      <th>7</th>\n",
       "      <td>7</td>\n",
       "      <td>0</td>\n",
       "    </tr>\n",
       "    <tr>\n",
       "      <th>8</th>\n",
       "      <td>8</td>\n",
       "      <td>6</td>\n",
       "    </tr>\n",
       "    <tr>\n",
       "      <th>9</th>\n",
       "      <td>9</td>\n",
       "      <td>0</td>\n",
       "    </tr>\n",
       "    <tr>\n",
       "      <th>10</th>\n",
       "      <td>10</td>\n",
       "      <td>0</td>\n",
       "    </tr>\n",
       "    <tr>\n",
       "      <th>11</th>\n",
       "      <td>11</td>\n",
       "      <td>0</td>\n",
       "    </tr>\n",
       "    <tr>\n",
       "      <th>12</th>\n",
       "      <td>12</td>\n",
       "      <td>6</td>\n",
       "    </tr>\n",
       "    <tr>\n",
       "      <th>13</th>\n",
       "      <td>13</td>\n",
       "      <td>0</td>\n",
       "    </tr>\n",
       "    <tr>\n",
       "      <th>14</th>\n",
       "      <td>14</td>\n",
       "      <td>0</td>\n",
       "    </tr>\n",
       "    <tr>\n",
       "      <th>15</th>\n",
       "      <td>15</td>\n",
       "      <td>0</td>\n",
       "    </tr>\n",
       "    <tr>\n",
       "      <th>16</th>\n",
       "      <td>16</td>\n",
       "      <td>0</td>\n",
       "    </tr>\n",
       "    <tr>\n",
       "      <th>17</th>\n",
       "      <td>17</td>\n",
       "      <td>0</td>\n",
       "    </tr>\n",
       "    <tr>\n",
       "      <th>18</th>\n",
       "      <td>18</td>\n",
       "      <td>0</td>\n",
       "    </tr>\n",
       "    <tr>\n",
       "      <th>19</th>\n",
       "      <td>19</td>\n",
       "      <td>0</td>\n",
       "    </tr>\n",
       "    <tr>\n",
       "      <th>20</th>\n",
       "      <td>20</td>\n",
       "      <td>0</td>\n",
       "    </tr>\n",
       "    <tr>\n",
       "      <th>21</th>\n",
       "      <td>21</td>\n",
       "      <td>0</td>\n",
       "    </tr>\n",
       "    <tr>\n",
       "      <th>22</th>\n",
       "      <td>22</td>\n",
       "      <td>0</td>\n",
       "    </tr>\n",
       "    <tr>\n",
       "      <th>23</th>\n",
       "      <td>23</td>\n",
       "      <td>0</td>\n",
       "    </tr>\n",
       "    <tr>\n",
       "      <th>24</th>\n",
       "      <td>24</td>\n",
       "      <td>0</td>\n",
       "    </tr>\n",
       "    <tr>\n",
       "      <th>25</th>\n",
       "      <td>25</td>\n",
       "      <td>0</td>\n",
       "    </tr>\n",
       "    <tr>\n",
       "      <th>26</th>\n",
       "      <td>26</td>\n",
       "      <td>6</td>\n",
       "    </tr>\n",
       "    <tr>\n",
       "      <th>27</th>\n",
       "      <td>27</td>\n",
       "      <td>0</td>\n",
       "    </tr>\n",
       "    <tr>\n",
       "      <th>28</th>\n",
       "      <td>28</td>\n",
       "      <td>0</td>\n",
       "    </tr>\n",
       "    <tr>\n",
       "      <th>29</th>\n",
       "      <td>29</td>\n",
       "      <td>0</td>\n",
       "    </tr>\n",
       "    <tr>\n",
       "      <th>...</th>\n",
       "      <td>...</td>\n",
       "      <td>...</td>\n",
       "    </tr>\n",
       "    <tr>\n",
       "      <th>1970</th>\n",
       "      <td>1970</td>\n",
       "      <td>2</td>\n",
       "    </tr>\n",
       "    <tr>\n",
       "      <th>1971</th>\n",
       "      <td>1971</td>\n",
       "      <td>0</td>\n",
       "    </tr>\n",
       "    <tr>\n",
       "      <th>1972</th>\n",
       "      <td>1972</td>\n",
       "      <td>6</td>\n",
       "    </tr>\n",
       "    <tr>\n",
       "      <th>1973</th>\n",
       "      <td>1973</td>\n",
       "      <td>0</td>\n",
       "    </tr>\n",
       "    <tr>\n",
       "      <th>1974</th>\n",
       "      <td>1974</td>\n",
       "      <td>0</td>\n",
       "    </tr>\n",
       "    <tr>\n",
       "      <th>1975</th>\n",
       "      <td>1975</td>\n",
       "      <td>6</td>\n",
       "    </tr>\n",
       "    <tr>\n",
       "      <th>1976</th>\n",
       "      <td>1976</td>\n",
       "      <td>6</td>\n",
       "    </tr>\n",
       "    <tr>\n",
       "      <th>1977</th>\n",
       "      <td>1977</td>\n",
       "      <td>6</td>\n",
       "    </tr>\n",
       "    <tr>\n",
       "      <th>1978</th>\n",
       "      <td>1978</td>\n",
       "      <td>6</td>\n",
       "    </tr>\n",
       "    <tr>\n",
       "      <th>1979</th>\n",
       "      <td>1979</td>\n",
       "      <td>6</td>\n",
       "    </tr>\n",
       "    <tr>\n",
       "      <th>1980</th>\n",
       "      <td>1980</td>\n",
       "      <td>6</td>\n",
       "    </tr>\n",
       "    <tr>\n",
       "      <th>1981</th>\n",
       "      <td>1981</td>\n",
       "      <td>6</td>\n",
       "    </tr>\n",
       "    <tr>\n",
       "      <th>1982</th>\n",
       "      <td>1982</td>\n",
       "      <td>6</td>\n",
       "    </tr>\n",
       "    <tr>\n",
       "      <th>1983</th>\n",
       "      <td>1983</td>\n",
       "      <td>6</td>\n",
       "    </tr>\n",
       "    <tr>\n",
       "      <th>1984</th>\n",
       "      <td>1984</td>\n",
       "      <td>3</td>\n",
       "    </tr>\n",
       "    <tr>\n",
       "      <th>1985</th>\n",
       "      <td>1985</td>\n",
       "      <td>0</td>\n",
       "    </tr>\n",
       "    <tr>\n",
       "      <th>1986</th>\n",
       "      <td>1986</td>\n",
       "      <td>6</td>\n",
       "    </tr>\n",
       "    <tr>\n",
       "      <th>1987</th>\n",
       "      <td>1987</td>\n",
       "      <td>2</td>\n",
       "    </tr>\n",
       "    <tr>\n",
       "      <th>1988</th>\n",
       "      <td>1988</td>\n",
       "      <td>2</td>\n",
       "    </tr>\n",
       "    <tr>\n",
       "      <th>1989</th>\n",
       "      <td>1989</td>\n",
       "      <td>6</td>\n",
       "    </tr>\n",
       "    <tr>\n",
       "      <th>1990</th>\n",
       "      <td>1990</td>\n",
       "      <td>6</td>\n",
       "    </tr>\n",
       "    <tr>\n",
       "      <th>1991</th>\n",
       "      <td>1991</td>\n",
       "      <td>6</td>\n",
       "    </tr>\n",
       "    <tr>\n",
       "      <th>1992</th>\n",
       "      <td>1992</td>\n",
       "      <td>6</td>\n",
       "    </tr>\n",
       "    <tr>\n",
       "      <th>1993</th>\n",
       "      <td>1993</td>\n",
       "      <td>6</td>\n",
       "    </tr>\n",
       "    <tr>\n",
       "      <th>1994</th>\n",
       "      <td>1994</td>\n",
       "      <td>6</td>\n",
       "    </tr>\n",
       "    <tr>\n",
       "      <th>1995</th>\n",
       "      <td>1995</td>\n",
       "      <td>6</td>\n",
       "    </tr>\n",
       "    <tr>\n",
       "      <th>1996</th>\n",
       "      <td>1996</td>\n",
       "      <td>6</td>\n",
       "    </tr>\n",
       "    <tr>\n",
       "      <th>1997</th>\n",
       "      <td>1997</td>\n",
       "      <td>6</td>\n",
       "    </tr>\n",
       "    <tr>\n",
       "      <th>1998</th>\n",
       "      <td>1998</td>\n",
       "      <td>6</td>\n",
       "    </tr>\n",
       "    <tr>\n",
       "      <th>1999</th>\n",
       "      <td>1999</td>\n",
       "      <td>6</td>\n",
       "    </tr>\n",
       "  </tbody>\n",
       "</table>\n",
       "<p>2000 rows × 2 columns</p>\n",
       "</div>"
      ],
      "text/plain": [
       "      image_index  class\n",
       "0               0      0\n",
       "1               1      0\n",
       "2               2      0\n",
       "3               3      0\n",
       "4               4      0\n",
       "5               5      0\n",
       "6               6      0\n",
       "7               7      0\n",
       "8               8      6\n",
       "9               9      0\n",
       "10             10      0\n",
       "11             11      0\n",
       "12             12      6\n",
       "13             13      0\n",
       "14             14      0\n",
       "15             15      0\n",
       "16             16      0\n",
       "17             17      0\n",
       "18             18      0\n",
       "19             19      0\n",
       "20             20      0\n",
       "21             21      0\n",
       "22             22      0\n",
       "23             23      0\n",
       "24             24      0\n",
       "25             25      0\n",
       "26             26      6\n",
       "27             27      0\n",
       "28             28      0\n",
       "29             29      0\n",
       "...           ...    ...\n",
       "1970         1970      2\n",
       "1971         1971      0\n",
       "1972         1972      6\n",
       "1973         1973      0\n",
       "1974         1974      0\n",
       "1975         1975      6\n",
       "1976         1976      6\n",
       "1977         1977      6\n",
       "1978         1978      6\n",
       "1979         1979      6\n",
       "1980         1980      6\n",
       "1981         1981      6\n",
       "1982         1982      6\n",
       "1983         1983      6\n",
       "1984         1984      3\n",
       "1985         1985      0\n",
       "1986         1986      6\n",
       "1987         1987      2\n",
       "1988         1988      2\n",
       "1989         1989      6\n",
       "1990         1990      6\n",
       "1991         1991      6\n",
       "1992         1992      6\n",
       "1993         1993      6\n",
       "1994         1994      6\n",
       "1995         1995      6\n",
       "1996         1996      6\n",
       "1997         1997      6\n",
       "1998         1998      6\n",
       "1999         1999      6\n",
       "\n",
       "[2000 rows x 2 columns]"
      ]
     },
     "execution_count": 77,
     "metadata": {
      "tags": []
     },
     "output_type": "execute_result"
    }
   ],
   "source": [
    "df = df[['image_index', 'class']]\n",
    "df"
   ]
  },
  {
   "cell_type": "markdown",
   "metadata": {},
   "source": [
    "### Saved it to a csv with my full_name"
   ]
  },
  {
   "cell_type": "code",
   "execution_count": 0,
   "metadata": {
    "colab": {},
    "colab_type": "code",
    "id": "ZzTq8FqHDa_0"
   },
   "outputs": [],
   "source": [
    "df.to_csv('/content/drive/My Drive/manish_edida.csv', index = False)"
   ]
  },
  {
   "cell_type": "code",
   "execution_count": 0,
   "metadata": {
    "colab": {},
    "colab_type": "code",
    "id": "tTd8WY-kD4PM"
   },
   "outputs": [],
   "source": []
  }
 ],
 "metadata": {
  "colab": {
   "name": "CVTask.ipynb",
   "provenance": [],
   "version": "0.3.2"
  },
  "kernelspec": {
   "display_name": "Python 3",
   "language": "python",
   "name": "python3"
  },
  "language_info": {
   "codemirror_mode": {
    "name": "ipython",
    "version": 3
   },
   "file_extension": ".py",
   "mimetype": "text/x-python",
   "name": "python",
   "nbconvert_exporter": "python",
   "pygments_lexer": "ipython3",
   "version": "3.6.5"
  }
 },
 "nbformat": 4,
 "nbformat_minor": 1
}
