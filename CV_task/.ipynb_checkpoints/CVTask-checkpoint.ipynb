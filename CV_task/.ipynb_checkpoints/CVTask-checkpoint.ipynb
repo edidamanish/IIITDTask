{
 "cells": [
  {
   "cell_type": "markdown",
   "metadata": {
    "colab": {
     "base_uri": "https://localhost:8080/",
     "height": 128
    },
    "colab_type": "code",
    "id": "QJRSpFCGPbLV",
    "outputId": "90c1cf27-5458-4884-a48e-98ad9f443bf6",
    "scrolled": true
   },
   "source": [
    "### Importing packages here"
   ]
  },
  {
   "cell_type": "code",
   "execution_count": 0,
   "metadata": {
    "colab": {},
    "colab_type": "code",
    "id": "TAZi6tlQPnR7"
   },
   "outputs": [],
   "source": [
    "import numpy as np\n",
    "import matplotlib.pyplot as plt\n",
    "import os\n",
    "import cv2\n",
    "import tqdm\n",
    "import random\n",
    "import pandas as pd\n",
    "import pickle as pkl\n",
    "from keras.utils.np_utils import to_categorical # convert to one-hot-encoding\n",
    "from keras.models import Sequential\n",
    "from keras.layers import Dense, Dropout, Flatten, Conv2D, MaxPool2D\n",
    "from keras.optimizers import RMSprop\n",
    "from keras.preprocessing.image import ImageDataGenerator\n",
    "from keras.callbacks import ReduceLROnPlateau, ModelCheckpoint\n",
    "\n"
   ]
  },
  {
   "cell_type": "markdown",
   "metadata": {},
   "source": [
    "### Loading the folder given in the task here"
   ]
  },
  {
   "cell_type": "code",
   "execution_count": 4,
   "metadata": {
    "colab": {
     "base_uri": "https://localhost:8080/",
     "height": 90
    },
    "colab_type": "code",
    "id": "SMILbrx8QrI_",
    "outputId": "01b10b9f-5d50-4716-e20f-f30f37913908"
   },
   "outputs": [
    {
     "data": {
      "text/plain": [
       "['train_label.pkl',\n",
       " 'train_image.pkl',\n",
       " 'test_image.pkl',\n",
       " 'hitkul(sample_submission).csv']"
      ]
     },
     "execution_count": 4,
     "metadata": {
      "tags": []
     },
     "output_type": "execute_result"
    }
   ],
   "source": [
    "fol_dir = 'Vision_task_dataset_public/'\n",
    "os.listdir(fol_dir)"
   ]
  },
  {
   "cell_type": "markdown",
   "metadata": {},
   "source": [
    "### Loading training data here"
   ]
  },
  {
   "cell_type": "code",
   "execution_count": 0,
   "metadata": {
    "colab": {},
    "colab_type": "code",
    "id": "PpUu_gh_Q7t3"
   },
   "outputs": [],
   "source": [
    "with open(fol_dir+'train_image.pkl', 'rb') as f:\n",
    "    train_image = pkl.load(f)\n",
    "with open(fol_dir+'train_label.pkl', 'rb') as f:\n",
    "    train_label = pkl.load(f)"
   ]
  },
  {
   "cell_type": "markdown",
   "metadata": {},
   "source": [
    "### Checking the length of the traing data"
   ]
  },
  {
   "cell_type": "code",
   "execution_count": 6,
   "metadata": {
    "colab": {
     "base_uri": "https://localhost:8080/",
     "height": 35
    },
    "colab_type": "code",
    "id": "fz-jJ4UKQ9zr",
    "outputId": "954a2523-f1f1-4563-cfa7-6fc0fdc4aecc"
   },
   "outputs": [
    {
     "name": "stdout",
     "output_type": "stream",
     "text": [
      "8000   8000\n"
     ]
    }
   ],
   "source": [
    "print(len(train_image), \" \", len(train_label))"
   ]
  },
  {
   "cell_type": "markdown",
   "metadata": {},
   "source": [
    "### Checking the dimensions of each image. Found out that each image was of dimension by taking the square root of this 28 x 28 x 1 "
   ]
  },
  {
   "cell_type": "code",
   "execution_count": 7,
   "metadata": {
    "colab": {
     "base_uri": "https://localhost:8080/",
     "height": 35
    },
    "colab_type": "code",
    "id": "u5Pn0IF7SYIc",
    "outputId": "2cc142b1-d22c-4224-c676-e0db70bd7724"
   },
   "outputs": [
    {
     "data": {
      "text/plain": [
       "784"
      ]
     },
     "execution_count": 7,
     "metadata": {
      "tags": []
     },
     "output_type": "execute_result"
    }
   ],
   "source": [
    "len(train_image[0])"
   ]
  },
  {
   "cell_type": "markdown",
   "metadata": {},
   "source": [
    "### Viewing some of the sample images to see what we are dealing with"
   ]
  },
  {
   "cell_type": "code",
   "execution_count": 9,
   "metadata": {
    "colab": {
     "base_uri": "https://localhost:8080/",
     "height": 1758
    },
    "colab_type": "code",
    "id": "s7WWYA_CS2bz",
    "outputId": "fd67709d-bab6-410b-de94-6e5f83746955"
   },
   "outputs": [
    {
     "data": {
      "image/png": "[encoded data removed]",
      "text/plain": [
       "<Figure size 576x396 with 1 Axes>"
      ]
     },
     "metadata": {
      "tags": []
     },
     "output_type": "display_data"
    },
    {
     "name": "stdout",
     "output_type": "stream",
     "text": [
      "Label for the image is  0\n"
     ]
    },
    {
     "data": {
      "image/png": "[encoded data removed]",
      "text/plain": [
       "<Figure size 576x396 with 1 Axes>"
      ]
     },
     "metadata": {
      "tags": []
     },
     "output_type": "display_data"
    },
    {
     "name": "stdout",
     "output_type": "stream",
     "text": [
      "Label for the image is  3\n"
     ]
    },
    {
     "data": {
      "image/png": "[encoded data removed]",
      "text/plain": [
       "<Figure size 576x396 with 1 Axes>"
      ]
     },
     "metadata": {
      "tags": []
     },
     "output_type": "display_data"
    },
    {
     "name": "stdout",
     "output_type": "stream",
     "text": [
      "Label for the image is  3\n"
     ]
    },
    {
     "data": {
      "image/png": "[encoded data removed]",
      "text/plain": [
       "<Figure size 576x396 with 1 Axes>"
      ]
     },
     "metadata": {
      "tags": []
     },
     "output_type": "display_data"
    },
    {
     "name": "stdout",
     "output_type": "stream",
     "text": [
      "Label for the image is  6\n"
     ]
    },
    {
     "data": {
      "image/png": "[encoded data removed]",
      "text/plain": [
       "<Figure size 576x396 with 1 Axes>"
      ]
     },
     "metadata": {
      "tags": []
     },
     "output_type": "display_data"
    },
    {
     "name": "stdout",
     "output_type": "stream",
     "text": [
      "Label for the image is  2\n"
     ]
    }
   ],
   "source": [
    "rnd_lst = random.sample(range(0, 8000), 8000) # Created a list of of random numbers between 1 and 8000 which \n",
    "                                              # was used to shuffle my training data\n",
    "\n",
    "for i in range(5):\n",
    "    x = np.asarray(train_image[rnd_lst[i]])\n",
    "    x = np.reshape(x, (28,28))\n",
    "    plt.imshow(x); plt.show()\n",
    "    print(\"Label for the image is \",train_label[rnd_lst[i]])"
   ]
  },
  {
   "cell_type": "markdown",
   "metadata": {},
   "source": [
    "### Created different lists for X_train, y_train, X_test and y_test.....\n",
    "#### Note : Here X_test and y_test are validation data taken from training data"
   ]
  },
  {
   "cell_type": "code",
   "execution_count": 0,
   "metadata": {
    "colab": {},
    "colab_type": "code",
    "id": "sGN2PdoNTHbA"
   },
   "outputs": [],
   "source": [
    "X_train = []\n",
    "y_train =[]\n",
    "X_test =[]\n",
    "y_test = []\n",
    "for i in range(0, 6000):\n",
    "    x = np.array(train_image[rnd_lst[i]])\n",
    "    x = x/255.0\n",
    "    X_train.append(x)\n",
    "    y_train.append(train_label[rnd_lst[i]])\n",
    "\n",
    "for i in range(6000, 8000):\n",
    "    x = np.array(train_image[rnd_lst[i]])\n",
    "    x = x/255.0\n",
    "    X_test.append(x)\n",
    "    y_test.append(train_label[rnd_lst[i]])\n",
    "\n"
   ]
  },
  {
   "cell_type": "markdown",
   "metadata": {},
   "source": [
    "### Plotted the bargraph to count the number of samples in each category to check if it is balanced or not"
   ]
  },
  {
   "cell_type": "code",
   "execution_count": 11,
   "metadata": {
    "colab": {
     "base_uri": "https://localhost:8080/",
     "height": 404
    },
    "colab_type": "code",
    "id": "zn2ub63SThIq",
    "outputId": "8a08b37f-678b-4e4d-a734-444c0463535e"
   },
   "outputs": [
    {
     "name": "stderr",
     "output_type": "stream",
     "text": [
      "/usr/local/lib/python3.6/dist-packages/seaborn/categorical.py:1428: FutureWarning: remove_na is deprecated and is a private function. Do not use.\n",
      "  stat_data = remove_na(group_data)\n"
     ]
    },
    {
     "data": {
      "image/png": "[encoded data removed]",
      "text/plain": [
       "<Figure size 576x396 with 1 Axes>"
      ]
     },
     "metadata": {
      "tags": []
     },
     "output_type": "display_data"
    }
   ],
   "source": [
    "import seaborn as sns\n",
    "g = sns.countplot(y_test)\n"
   ]
  },
  {
   "cell_type": "markdown",
   "metadata": {},
   "source": [
    "### reshaped the samples in X_train and X_test list to 28x28x1 so that I can input them into my Convolutional Neural Network Models\n",
    "\n",
    "### Also I changed the label \"6\" to \"1\" so that when one hot encoding, it would be easier for me."
   ]
  },
  {
   "cell_type": "code",
   "execution_count": 0,
   "metadata": {
    "colab": {},
    "colab_type": "code",
    "id": "QK_acoccxav5"
   },
   "outputs": [],
   "source": [
    "for i in range(0, 6000):\n",
    "    X_train[i] = X_train[i].reshape( 28, 28, 1)\n",
    "\n",
    "for i in range(0, 2000):\n",
    "    X_test[i] = X_test[i].reshape( 28, 28, 1)\n",
    "  \n",
    "for i in range(0, 6000):\n",
    "    if(y_train[i] == 6):\n",
    "        y_train[i] = 1\n",
    "for i in range(0, 2000):\n",
    "    if(y_test[i] == 6):\n",
    "        y_test[i] = 1\n",
    "  "
   ]
  },
  {
   "cell_type": "markdown",
   "metadata": {},
   "source": [
    "### One hot encoded my labels here"
   ]
  },
  {
   "cell_type": "code",
   "execution_count": 0,
   "metadata": {
    "colab": {},
    "colab_type": "code",
    "id": "cYFZCIKeyPCA"
   },
   "outputs": [],
   "source": [
    "y_train = to_categorical(y_train, num_classes = 4)\n",
    "y_test = to_categorical(y_test, num_classes = 4)"
   ]
  },
  {
   "cell_type": "markdown",
   "metadata": {},
   "source": [
    "### Checked the shape of my y_train"
   ]
  },
  {
   "cell_type": "code",
   "execution_count": 14,
   "metadata": {
    "colab": {
     "base_uri": "https://localhost:8080/",
     "height": 35
    },
    "colab_type": "code",
    "id": "0IXFoWTF4hMj",
    "outputId": "a2c13595-57c7-4e6a-a5af-bd42a1babfda"
   },
   "outputs": [
    {
     "data": {
      "text/plain": [
       "(4,)"
      ]
     },
     "execution_count": 14,
     "metadata": {
      "tags": []
     },
     "output_type": "execute_result"
    }
   ],
   "source": [
    "y_train[0].shape"
   ]
  },
  {
   "cell_type": "markdown",
   "metadata": {},
   "source": [
    "### Converted X_train and X_test to numpy arrays to input them into my CNN model"
   ]
  },
  {
   "cell_type": "code",
   "execution_count": 0,
   "metadata": {
    "colab": {},
    "colab_type": "code",
    "id": "6ZQYw2122WDY"
   },
   "outputs": [],
   "source": [
    "X_train = np.array(X_train)\n",
    "X_test = np.array(X_test)"
   ]
  },
  {
   "cell_type": "markdown",
   "metadata": {
    "colab": {},
    "colab_type": "code",
    "id": "X21B2BmHyuBE"
   },
   "source": [
    "### Coded my simple deep CNN model here... I didn't use complex models like resnet or vgg because of the small dimension of my training data"
   ]
  },
  {
   "cell_type": "code",
   "execution_count": 0,
   "metadata": {
    "colab": {},
    "colab_type": "code",
    "id": "ODsnCpvb1WHp"
   },
   "outputs": [],
   "source": [
    "model = Sequential()\n",
    "\n",
    "model.add(Conv2D(filters = 32, kernel_size = (5,5),padding = 'Same', \n",
    "                 activation ='relu', input_shape = (28,28,1)))\n",
    "model.add(Conv2D(filters = 32, kernel_size = (5,5),padding = 'Same', \n",
    "                 activation ='relu'))\n",
    "model.add(MaxPool2D(pool_size=(2,2)))\n",
    "model.add(Dropout(0.25))\n",
    "\n",
    "\n",
    "model.add(Conv2D(filters = 64, kernel_size = (3,3),padding = 'Same', \n",
    "                 activation ='relu'))\n",
    "model.add(Conv2D(filters = 64, kernel_size = (3,3),padding = 'Same', \n",
    "                 activation ='relu'))\n",
    "model.add(MaxPool2D(pool_size=(2,2), strides=(2,2)))\n",
    "model.add(Dropout(0.25))\n",
    "\n",
    "\n",
    "model.add(Flatten())\n",
    "model.add(Dense(256, activation = \"relu\"))\n",
    "model.add(Dropout(0.5))\n",
    "model.add(Dense(4, activation = \"softmax\"))"
   ]
  },
  {
   "cell_type": "markdown",
   "metadata": {},
   "source": [
    "### Defined optimizer here and defined how I would like my model to be compiled with \"categorical crossentropy\" loss"
   ]
  },
  {
   "cell_type": "code",
   "execution_count": 0,
   "metadata": {
    "colab": {},
    "colab_type": "code",
    "id": "Q254XZmR1hJa"
   },
   "outputs": [],
   "source": [
    "optimizer = RMSprop(lr=0.001, rho=0.9, epsilon=1e-08, decay=0.0)\n",
    "model.compile(optimizer = optimizer , loss = \"categorical_crossentropy\", metrics=[\"accuracy\"])"
   ]
  },
  {
   "cell_type": "markdown",
   "metadata": {},
   "source": [
    "### The below code is callback feature in keras which reduces the learning rate once the metric has stopped imporving. "
   ]
  },
  {
   "cell_type": "code",
   "execution_count": 0,
   "metadata": {
    "colab": {},
    "colab_type": "code",
    "id": "Mi27zAPW1nV2"
   },
   "outputs": [],
   "source": [
    "learning_rate_reduction = ReduceLROnPlateau(monitor='val_acc', patience=3, verbose=1, factor=0.5, min_lr=0.00001)"
   ]
  },
  {
   "cell_type": "markdown",
   "metadata": {},
   "source": [
    "### Initialised the number of epochs and batch size here"
   ]
  },
  {
   "cell_type": "code",
   "execution_count": 0,
   "metadata": {
    "colab": {},
    "colab_type": "code",
    "id": "6f1PlIa71rMZ"
   },
   "outputs": [],
   "source": [
    "epochs = 60\n",
    "batch_size = 120"
   ]
  },
  {
   "cell_type": "markdown",
   "metadata": {},
   "source": [
    "### The below code helps in augmenting my sample training images. This can be changed and experimented on how it affects the training and all."
   ]
  },
  {
   "cell_type": "code",
   "execution_count": 0,
   "metadata": {
    "colab": {},
    "colab_type": "code",
    "id": "q2eKqY1h1xWP"
   },
   "outputs": [],
   "source": [
    "datagen = ImageDataGenerator(\n",
    "        featurewise_center=False,  # set input mean to 0 over the dataset\n",
    "        samplewise_center=False,  # set each sample mean to 0\n",
    "        featurewise_std_normalization=False,  # divide inputs by std of the dataset\n",
    "        samplewise_std_normalization=False,  # divide each input by its std\n",
    "        zca_whitening=False,  # apply ZCA whitening\n",
    "        rotation_range=10,  # randomly rotate images in the range (degrees, 0 to 180)\n",
    "        zoom_range = 0.1, # Randomly zoom image \n",
    "        width_shift_range=0.1,  # randomly shift images horizontally (fraction of total width)\n",
    "        height_shift_range=0.1,  # randomly shift images vertically (fraction of total height)\n",
    "        horizontal_flip=True,  # randomly flip images\n",
    "        vertical_flip=False)  # randomly flip images\n",
    "\n",
    "\n",
    "datagen.fit(X_train)\n"
   ]
  },
  {
   "cell_type": "markdown",
   "metadata": {},
   "source": [
    "### the below checkpoint feature in keras helps me to save the best weights only for which the epoch showed minimum validation loss"
   ]
  },
  {
   "cell_type": "code",
   "execution_count": 0,
   "metadata": {
    "colab": {},
    "colab_type": "code",
    "id": "Hi-N7srix8TO"
   },
   "outputs": [],
   "source": [
    "checkpoint=ModelCheckpoint('MIDASTASKMODEL.h5',monitor='val_loss',verbose=0,save_best_only=True,mode='auto')"
   ]
  },
  {
   "cell_type": "markdown",
   "metadata": {},
   "source": [
    "### Ran the model here"
   ]
  },
  {
   "cell_type": "code",
   "execution_count": 30,
   "metadata": {
    "colab": {
     "base_uri": "https://localhost:8080/",
     "height": 2454
    },
    "colab_type": "code",
    "id": "XO6IJXWw12n_",
    "outputId": "49246b0a-4c4f-438a-b535-f40a761927ee"
   },
   "outputs": [
    {
     "name": "stdout",
     "output_type": "stream",
     "text": [
      "Epoch 1/60\n",
      "50/50 [==============================] - 51s 1s/step - loss: 1.0535 - acc: 0.5363 - val_loss: 0.7819 - val_acc: 0.6460\n",
      "Epoch 2/60\n",
      "50/50 [==============================] - 51s 1s/step - loss: 0.7582 - acc: 0.6892 - val_loss: 0.6862 - val_acc: 0.7285\n",
      "Epoch 3/60\n",
      "50/50 [==============================] - 51s 1s/step - loss: 0.7171 - acc: 0.7040 - val_loss: 0.6146 - val_acc: 0.7475\n",
      "Epoch 4/60\n",
      "50/50 [==============================] - 51s 1s/step - loss: 0.6852 - acc: 0.7228 - val_loss: 0.5949 - val_acc: 0.7610\n",
      "Epoch 5/60\n",
      "50/50 [==============================] - 50s 1s/step - loss: 0.6510 - acc: 0.7260 - val_loss: 0.5495 - val_acc: 0.7810\n",
      "Epoch 6/60\n",
      "50/50 [==============================] - 50s 1s/step - loss: 0.6143 - acc: 0.7475 - val_loss: 0.5070 - val_acc: 0.7850\n",
      "Epoch 7/60\n",
      "50/50 [==============================] - 50s 1s/step - loss: 0.6027 - acc: 0.7533 - val_loss: 0.5027 - val_acc: 0.8065\n",
      "Epoch 8/60\n",
      "50/50 [==============================] - 50s 1s/step - loss: 0.5749 - acc: 0.7658 - val_loss: 0.4858 - val_acc: 0.7995\n",
      "Epoch 9/60\n",
      "50/50 [==============================] - 51s 1s/step - loss: 0.5634 - acc: 0.7725 - val_loss: 0.4446 - val_acc: 0.8240\n",
      "Epoch 10/60\n",
      "50/50 [==============================] - 50s 1s/step - loss: 0.5412 - acc: 0.7825 - val_loss: 0.4623 - val_acc: 0.8170\n",
      "Epoch 11/60\n",
      "50/50 [==============================] - 50s 997ms/step - loss: 0.5245 - acc: 0.7877 - val_loss: 0.4227 - val_acc: 0.8345\n",
      "Epoch 12/60\n",
      "50/50 [==============================] - 49s 988ms/step - loss: 0.5130 - acc: 0.7935 - val_loss: 0.4124 - val_acc: 0.8390\n",
      "Epoch 13/60\n",
      "50/50 [==============================] - 50s 997ms/step - loss: 0.5053 - acc: 0.8035 - val_loss: 0.4196 - val_acc: 0.8345\n",
      "Epoch 14/60\n",
      "50/50 [==============================] - 50s 1s/step - loss: 0.4973 - acc: 0.8018 - val_loss: 0.4002 - val_acc: 0.8515\n",
      "Epoch 15/60\n",
      "50/50 [==============================] - 51s 1s/step - loss: 0.4770 - acc: 0.8065 - val_loss: 0.4058 - val_acc: 0.8380\n",
      "Epoch 16/60\n",
      "50/50 [==============================] - 51s 1s/step - loss: 0.4697 - acc: 0.8160 - val_loss: 0.4024 - val_acc: 0.8380\n",
      "Epoch 17/60\n",
      "50/50 [==============================] - 51s 1s/step - loss: 0.4641 - acc: 0.8165 - val_loss: 0.3864 - val_acc: 0.8495\n",
      "\n",
      "Epoch 00017: ReduceLROnPlateau reducing learning rate to 0.0005000000237487257.\n",
      "Epoch 18/60\n",
      "50/50 [==============================] - 51s 1s/step - loss: 0.4387 - acc: 0.8255 - val_loss: 0.3646 - val_acc: 0.8605\n",
      "Epoch 19/60\n",
      "50/50 [==============================] - 50s 1s/step - loss: 0.4157 - acc: 0.8360 - val_loss: 0.3705 - val_acc: 0.8540\n",
      "Epoch 20/60\n",
      "50/50 [==============================] - 52s 1s/step - loss: 0.4154 - acc: 0.8345 - val_loss: 0.3549 - val_acc: 0.8635\n",
      "Epoch 21/60\n",
      "50/50 [==============================] - 51s 1s/step - loss: 0.4109 - acc: 0.8388 - val_loss: 0.3542 - val_acc: 0.8615\n",
      "Epoch 22/60\n",
      "50/50 [==============================] - 50s 1s/step - loss: 0.4057 - acc: 0.8388 - val_loss: 0.3599 - val_acc: 0.8575\n",
      "Epoch 23/60\n",
      "50/50 [==============================] - 51s 1s/step - loss: 0.4135 - acc: 0.8433 - val_loss: 0.3598 - val_acc: 0.8610\n",
      "\n",
      "Epoch 00023: ReduceLROnPlateau reducing learning rate to 0.0002500000118743628.\n",
      "Epoch 24/60\n",
      "50/50 [==============================] - 51s 1s/step - loss: 0.4002 - acc: 0.8460 - val_loss: 0.3508 - val_acc: 0.8670\n",
      "Epoch 25/60\n",
      "50/50 [==============================] - 51s 1s/step - loss: 0.3918 - acc: 0.8508 - val_loss: 0.3449 - val_acc: 0.8660\n",
      "Epoch 26/60\n",
      "50/50 [==============================] - 51s 1s/step - loss: 0.3741 - acc: 0.8552 - val_loss: 0.3483 - val_acc: 0.8675\n",
      "Epoch 27/60\n",
      "50/50 [==============================] - 51s 1s/step - loss: 0.3774 - acc: 0.8512 - val_loss: 0.3471 - val_acc: 0.8605\n",
      "Epoch 28/60\n",
      "50/50 [==============================] - 50s 1s/step - loss: 0.3816 - acc: 0.8532 - val_loss: 0.3493 - val_acc: 0.8610\n",
      "Epoch 29/60\n",
      "50/50 [==============================] - 51s 1s/step - loss: 0.3733 - acc: 0.8545 - val_loss: 0.3426 - val_acc: 0.8700\n",
      "Epoch 30/60\n",
      "50/50 [==============================] - 51s 1s/step - loss: 0.3783 - acc: 0.8518 - val_loss: 0.3441 - val_acc: 0.8675\n",
      "Epoch 31/60\n",
      "50/50 [==============================] - 50s 1s/step - loss: 0.3696 - acc: 0.8570 - val_loss: 0.3449 - val_acc: 0.8635\n",
      "Epoch 32/60\n",
      "50/50 [==============================] - 50s 1s/step - loss: 0.3747 - acc: 0.8562 - val_loss: 0.3471 - val_acc: 0.8610\n",
      "\n",
      "Epoch 00032: ReduceLROnPlateau reducing learning rate to 0.0001250000059371814.\n",
      "Epoch 33/60\n",
      "50/50 [==============================] - 51s 1s/step - loss: 0.3690 - acc: 0.8598 - val_loss: 0.3418 - val_acc: 0.8655\n",
      "Epoch 34/60\n",
      "50/50 [==============================] - 50s 1s/step - loss: 0.3583 - acc: 0.8595 - val_loss: 0.3360 - val_acc: 0.8670\n",
      "Epoch 35/60\n",
      "50/50 [==============================] - 50s 1s/step - loss: 0.3783 - acc: 0.8513 - val_loss: 0.3362 - val_acc: 0.8655\n",
      "\n",
      "Epoch 00035: ReduceLROnPlateau reducing learning rate to 6.25000029685907e-05.\n",
      "Epoch 36/60\n",
      "50/50 [==============================] - 50s 1s/step - loss: 0.3644 - acc: 0.8580 - val_loss: 0.3360 - val_acc: 0.8650\n",
      "Epoch 37/60\n",
      "50/50 [==============================] - 50s 1s/step - loss: 0.3599 - acc: 0.8610 - val_loss: 0.3370 - val_acc: 0.8655\n",
      "Epoch 38/60\n",
      "50/50 [==============================] - 50s 1s/step - loss: 0.3645 - acc: 0.8605 - val_loss: 0.3366 - val_acc: 0.8665\n",
      "\n",
      "Epoch 00038: ReduceLROnPlateau reducing learning rate to 3.125000148429535e-05.\n",
      "Epoch 39/60\n",
      "50/50 [==============================] - 52s 1s/step - loss: 0.3573 - acc: 0.8607 - val_loss: 0.3394 - val_acc: 0.8675\n",
      "Epoch 40/60\n",
      "50/50 [==============================] - 53s 1s/step - loss: 0.3671 - acc: 0.8570 - val_loss: 0.3367 - val_acc: 0.8680\n",
      "Epoch 41/60\n",
      "50/50 [==============================] - 52s 1s/step - loss: 0.3530 - acc: 0.8660 - val_loss: 0.3327 - val_acc: 0.8665\n",
      "\n",
      "Epoch 00041: ReduceLROnPlateau reducing learning rate to 1.5625000742147677e-05.\n",
      "Epoch 42/60\n",
      "50/50 [==============================] - 52s 1s/step - loss: 0.3679 - acc: 0.8603 - val_loss: 0.3334 - val_acc: 0.8670\n",
      "Epoch 43/60\n",
      "50/50 [==============================] - 52s 1s/step - loss: 0.3606 - acc: 0.8620 - val_loss: 0.3342 - val_acc: 0.8665\n",
      "Epoch 44/60\n",
      "50/50 [==============================] - 51s 1s/step - loss: 0.3627 - acc: 0.8617 - val_loss: 0.3354 - val_acc: 0.8665\n",
      "\n",
      "Epoch 00044: ReduceLROnPlateau reducing learning rate to 1e-05.\n",
      "Epoch 45/60\n",
      "50/50 [==============================] - 50s 1s/step - loss: 0.3573 - acc: 0.8632 - val_loss: 0.3347 - val_acc: 0.8670\n",
      "Epoch 46/60\n",
      "50/50 [==============================] - 51s 1s/step - loss: 0.3593 - acc: 0.8585 - val_loss: 0.3345 - val_acc: 0.8665\n",
      "Epoch 47/60\n",
      "50/50 [==============================] - 50s 1s/step - loss: 0.3580 - acc: 0.8610 - val_loss: 0.3337 - val_acc: 0.8640\n",
      "Epoch 48/60\n",
      "50/50 [==============================] - 50s 1s/step - loss: 0.3587 - acc: 0.8583 - val_loss: 0.3339 - val_acc: 0.8655\n",
      "Epoch 49/60\n",
      "50/50 [==============================] - 50s 1s/step - loss: 0.3562 - acc: 0.8615 - val_loss: 0.3346 - val_acc: 0.8665\n",
      "Epoch 50/60\n",
      "50/50 [==============================] - 50s 1s/step - loss: 0.3627 - acc: 0.8582 - val_loss: 0.3353 - val_acc: 0.8670\n",
      "Epoch 51/60\n",
      "50/50 [==============================] - 51s 1s/step - loss: 0.3473 - acc: 0.8647 - val_loss: 0.3347 - val_acc: 0.8665\n",
      "Epoch 52/60\n",
      "50/50 [==============================] - 51s 1s/step - loss: 0.3545 - acc: 0.8612 - val_loss: 0.3347 - val_acc: 0.8670\n",
      "Epoch 53/60\n",
      "50/50 [==============================] - 50s 1s/step - loss: 0.3496 - acc: 0.8637 - val_loss: 0.3357 - val_acc: 0.8665\n",
      "Epoch 54/60\n",
      "50/50 [==============================] - 51s 1s/step - loss: 0.3545 - acc: 0.8673 - val_loss: 0.3341 - val_acc: 0.8665\n",
      "Epoch 55/60\n",
      "50/50 [==============================] - 51s 1s/step - loss: 0.3502 - acc: 0.8687 - val_loss: 0.3347 - val_acc: 0.8665\n",
      "Epoch 56/60\n",
      "50/50 [==============================] - 51s 1s/step - loss: 0.3590 - acc: 0.8625 - val_loss: 0.3341 - val_acc: 0.8650\n",
      "Epoch 57/60\n",
      "50/50 [==============================] - 51s 1s/step - loss: 0.3558 - acc: 0.8627 - val_loss: 0.3340 - val_acc: 0.8665\n",
      "Epoch 58/60\n",
      "50/50 [==============================] - 51s 1s/step - loss: 0.3480 - acc: 0.8672 - val_loss: 0.3339 - val_acc: 0.8665\n",
      "Epoch 59/60\n",
      "50/50 [==============================] - 51s 1s/step - loss: 0.3608 - acc: 0.8630 - val_loss: 0.3335 - val_acc: 0.8665\n",
      "Epoch 60/60\n",
      "50/50 [==============================] - 51s 1s/step - loss: 0.3621 - acc: 0.8608 - val_loss: 0.3334 - val_acc: 0.8680\n"
     ]
    }
   ],
   "source": [
    "history = model.fit_generator(datagen.flow(X_train,y_train, batch_size=batch_size),\n",
    "                              epochs = epochs, validation_data = (X_test,y_test),\n",
    "                              verbose = 1, steps_per_epoch=X_train.shape[0] // batch_size\n",
    "                              , callbacks=[learning_rate_reduction, checkpoint])"
   ]
  },
  {
   "cell_type": "markdown",
   "metadata": {},
   "source": [
    "### Plotted how training and validation loss as well as training and validation accuracy changes with each epoch to see where it went constant"
   ]
  },
  {
   "cell_type": "code",
   "execution_count": 31,
   "metadata": {
    "colab": {
     "base_uri": "https://localhost:8080/",
     "height": 347
    },
    "colab_type": "code",
    "id": "wb-ei_ns_tS1",
    "outputId": "c75c5d7b-a323-40e9-e9cd-03deef7a9db9"
   },
   "outputs": [
    {
     "data": {
      "image/png": "[encoded data removed]",
      "text/plain": [
       "<Figure size 576x396 with 2 Axes>"
      ]
     },
     "metadata": {
      "tags": []
     },
     "output_type": "display_data"
    }
   ],
   "source": [
    "fig, ax = plt.subplots(2,1)\n",
    "ax[0].plot(history.history['loss'], color='b', label=\"Training loss\")\n",
    "ax[0].plot(history.history['val_loss'], color='r', label=\"validation loss\",axes =ax[0])\n",
    "legend = ax[0].legend(loc='best', shadow=True)\n",
    "\n",
    "ax[1].plot(history.history['acc'], color='b', label=\"Training accuracy\")\n",
    "ax[1].plot(history.history['val_acc'], color='r',label=\"Validation accuracy\")\n",
    "legend = ax[1].legend(loc='best', shadow=True)"
   ]
  },
  {
   "cell_type": "markdown",
   "metadata": {},
   "source": [
    "### Loaded the test data"
   ]
  },
  {
   "cell_type": "code",
   "execution_count": 0,
   "metadata": {
    "colab": {},
    "colab_type": "code",
    "id": "C7wqe4ka_-SG"
   },
   "outputs": [],
   "source": [
    "with open(fol_dir+'test_image.pkl', 'rb') as f:\n",
    "    test_image = pkl.load(f)\n"
   ]
  },
  {
   "cell_type": "code",
   "execution_count": 36,
   "metadata": {
    "colab": {
     "base_uri": "https://localhost:8080/",
     "height": 35
    },
    "colab_type": "code",
    "id": "M3Dv2NISAJyb",
    "outputId": "3378c5a4-ac3e-4540-9827-a22359b2dbd8"
   },
   "outputs": [
    {
     "data": {
      "text/plain": [
       "2000"
      ]
     },
     "execution_count": 36,
     "metadata": {
      "tags": []
     },
     "output_type": "execute_result"
    }
   ],
   "source": [
    "len(test_image)"
   ]
  },
  {
   "cell_type": "markdown",
   "metadata": {},
   "source": [
    "### reshaped it in the same way as I reshaped the above training and validation data"
   ]
  },
  {
   "cell_type": "code",
   "execution_count": 0,
   "metadata": {
    "colab": {},
    "colab_type": "code",
    "id": "opZscnNQBK-J"
   },
   "outputs": [],
   "source": [
    "testX =[]\n",
    "for i in range(0, 2000):\n",
    "    x = np.array(train_image[rnd_lst[i]])\n",
    "    x = x/255.0\n",
    "    x = x.reshape( 28, 28, 1)\n",
    "    testX.append(x)\n",
    "testX = np.array(testX)"
   ]
  },
  {
   "cell_type": "markdown",
   "metadata": {},
   "source": [
    "### predicted the test labels"
   ]
  },
  {
   "cell_type": "code",
   "execution_count": 0,
   "metadata": {
    "colab": {},
    "colab_type": "code",
    "id": "SRF1alP5Br-B"
   },
   "outputs": [],
   "source": [
    "testy = model.predict(testX)"
   ]
  },
  {
   "cell_type": "markdown",
   "metadata": {},
   "source": [
    "### Got the index which indicates the max probability of it being the feature"
   ]
  },
  {
   "cell_type": "code",
   "execution_count": 0,
   "metadata": {
    "colab": {},
    "colab_type": "code",
    "id": "DudYYXCoCGci"
   },
   "outputs": [],
   "source": [
    "testy_pred = []\n",
    "for i in range(0, len(testy)):\n",
    "    testy_pred.append(np.argmax(testy[i]))\n",
    "   "
   ]
  },
  {
   "cell_type": "code",
   "execution_count": 40,
   "metadata": {
    "colab": {
     "base_uri": "https://localhost:8080/",
     "height": 35
    },
    "colab_type": "code",
    "id": "qi5bUXFmCIr8",
    "outputId": "f92d2533-c415-4786-d65e-3f85bfb7afb8"
   },
   "outputs": [
    {
     "data": {
      "text/plain": [
       "[0, 3, 3, 1, 2, 1, 1, 1, 3, 1]"
      ]
     },
     "execution_count": 40,
     "metadata": {
      "tags": []
     },
     "output_type": "execute_result"
    }
   ],
   "source": [
    "testy_pred[:10]"
   ]
  },
  {
   "cell_type": "markdown",
   "metadata": {},
   "source": [
    "### Here I created a list of dictionary with image index and predicted label... Also notice that I changed the label \"1\" to \"6\" since I changed it before training"
   ]
  },
  {
   "cell_type": "code",
   "execution_count": 0,
   "metadata": {
    "colab": {},
    "colab_type": "code",
    "id": "qqH-kDJPCUWE"
   },
   "outputs": [],
   "source": [
    "dict_lst =[]\n",
    "for i in range(0, len(testy)):\n",
    "    testy_pred = np.argmax(testy[i])\n",
    "    if(testy_pred == 1):\n",
    "        testy_pred = 6\n",
    "    dict_tmp = {'image_index':i, 'class':testy_pred}\n",
    "    dict_lst.append(dict_tmp)\n",
    "    "
   ]
  },
  {
   "cell_type": "markdown",
   "metadata": {},
   "source": [
    "### Created a dataframe here"
   ]
  },
  {
   "cell_type": "code",
   "execution_count": 0,
   "metadata": {
    "colab": {},
    "colab_type": "code",
    "id": "4mx2MeYPDWYj"
   },
   "outputs": [],
   "source": [
    "df = pd.DataFrame(dict_lst)"
   ]
  },
  {
   "cell_type": "code",
   "execution_count": 43,
   "metadata": {
    "colab": {
     "base_uri": "https://localhost:8080/",
     "height": 1907
    },
    "colab_type": "code",
    "id": "usxqx2rHDaXL",
    "outputId": "90cb6fbb-26fa-4100-d116-70b8db4ad603"
   },
   "outputs": [
    {
     "data": {
      "text/html": [
       "<div>\n",
       "<style scoped>\n",
       "    .dataframe tbody tr th:only-of-type {\n",
       "        vertical-align: middle;\n",
       "    }\n",
       "\n",
       "    .dataframe tbody tr th {\n",
       "        vertical-align: top;\n",
       "    }\n",
       "\n",
       "    .dataframe thead th {\n",
       "        text-align: right;\n",
       "    }\n",
       "</style>\n",
       "<table border=\"1\" class=\"dataframe\">\n",
       "  <thead>\n",
       "    <tr style=\"text-align: right;\">\n",
       "      <th></th>\n",
       "      <th>class</th>\n",
       "      <th>image_index</th>\n",
       "    </tr>\n",
       "  </thead>\n",
       "  <tbody>\n",
       "    <tr>\n",
       "      <th>0</th>\n",
       "      <td>0</td>\n",
       "      <td>0</td>\n",
       "    </tr>\n",
       "    <tr>\n",
       "      <th>1</th>\n",
       "      <td>3</td>\n",
       "      <td>1</td>\n",
       "    </tr>\n",
       "    <tr>\n",
       "      <th>2</th>\n",
       "      <td>3</td>\n",
       "      <td>2</td>\n",
       "    </tr>\n",
       "    <tr>\n",
       "      <th>3</th>\n",
       "      <td>6</td>\n",
       "      <td>3</td>\n",
       "    </tr>\n",
       "    <tr>\n",
       "      <th>4</th>\n",
       "      <td>2</td>\n",
       "      <td>4</td>\n",
       "    </tr>\n",
       "    <tr>\n",
       "      <th>5</th>\n",
       "      <td>6</td>\n",
       "      <td>5</td>\n",
       "    </tr>\n",
       "    <tr>\n",
       "      <th>6</th>\n",
       "      <td>6</td>\n",
       "      <td>6</td>\n",
       "    </tr>\n",
       "    <tr>\n",
       "      <th>7</th>\n",
       "      <td>6</td>\n",
       "      <td>7</td>\n",
       "    </tr>\n",
       "    <tr>\n",
       "      <th>8</th>\n",
       "      <td>3</td>\n",
       "      <td>8</td>\n",
       "    </tr>\n",
       "    <tr>\n",
       "      <th>9</th>\n",
       "      <td>6</td>\n",
       "      <td>9</td>\n",
       "    </tr>\n",
       "    <tr>\n",
       "      <th>10</th>\n",
       "      <td>3</td>\n",
       "      <td>10</td>\n",
       "    </tr>\n",
       "    <tr>\n",
       "      <th>11</th>\n",
       "      <td>6</td>\n",
       "      <td>11</td>\n",
       "    </tr>\n",
       "    <tr>\n",
       "      <th>12</th>\n",
       "      <td>2</td>\n",
       "      <td>12</td>\n",
       "    </tr>\n",
       "    <tr>\n",
       "      <th>13</th>\n",
       "      <td>2</td>\n",
       "      <td>13</td>\n",
       "    </tr>\n",
       "    <tr>\n",
       "      <th>14</th>\n",
       "      <td>2</td>\n",
       "      <td>14</td>\n",
       "    </tr>\n",
       "    <tr>\n",
       "      <th>15</th>\n",
       "      <td>3</td>\n",
       "      <td>15</td>\n",
       "    </tr>\n",
       "    <tr>\n",
       "      <th>16</th>\n",
       "      <td>2</td>\n",
       "      <td>16</td>\n",
       "    </tr>\n",
       "    <tr>\n",
       "      <th>17</th>\n",
       "      <td>6</td>\n",
       "      <td>17</td>\n",
       "    </tr>\n",
       "    <tr>\n",
       "      <th>18</th>\n",
       "      <td>3</td>\n",
       "      <td>18</td>\n",
       "    </tr>\n",
       "    <tr>\n",
       "      <th>19</th>\n",
       "      <td>3</td>\n",
       "      <td>19</td>\n",
       "    </tr>\n",
       "    <tr>\n",
       "      <th>20</th>\n",
       "      <td>3</td>\n",
       "      <td>20</td>\n",
       "    </tr>\n",
       "    <tr>\n",
       "      <th>21</th>\n",
       "      <td>6</td>\n",
       "      <td>21</td>\n",
       "    </tr>\n",
       "    <tr>\n",
       "      <th>22</th>\n",
       "      <td>0</td>\n",
       "      <td>22</td>\n",
       "    </tr>\n",
       "    <tr>\n",
       "      <th>23</th>\n",
       "      <td>6</td>\n",
       "      <td>23</td>\n",
       "    </tr>\n",
       "    <tr>\n",
       "      <th>24</th>\n",
       "      <td>3</td>\n",
       "      <td>24</td>\n",
       "    </tr>\n",
       "    <tr>\n",
       "      <th>25</th>\n",
       "      <td>3</td>\n",
       "      <td>25</td>\n",
       "    </tr>\n",
       "    <tr>\n",
       "      <th>26</th>\n",
       "      <td>6</td>\n",
       "      <td>26</td>\n",
       "    </tr>\n",
       "    <tr>\n",
       "      <th>27</th>\n",
       "      <td>3</td>\n",
       "      <td>27</td>\n",
       "    </tr>\n",
       "    <tr>\n",
       "      <th>28</th>\n",
       "      <td>3</td>\n",
       "      <td>28</td>\n",
       "    </tr>\n",
       "    <tr>\n",
       "      <th>29</th>\n",
       "      <td>3</td>\n",
       "      <td>29</td>\n",
       "    </tr>\n",
       "    <tr>\n",
       "      <th>...</th>\n",
       "      <td>...</td>\n",
       "      <td>...</td>\n",
       "    </tr>\n",
       "    <tr>\n",
       "      <th>1970</th>\n",
       "      <td>3</td>\n",
       "      <td>1970</td>\n",
       "    </tr>\n",
       "    <tr>\n",
       "      <th>1971</th>\n",
       "      <td>2</td>\n",
       "      <td>1971</td>\n",
       "    </tr>\n",
       "    <tr>\n",
       "      <th>1972</th>\n",
       "      <td>0</td>\n",
       "      <td>1972</td>\n",
       "    </tr>\n",
       "    <tr>\n",
       "      <th>1973</th>\n",
       "      <td>0</td>\n",
       "      <td>1973</td>\n",
       "    </tr>\n",
       "    <tr>\n",
       "      <th>1974</th>\n",
       "      <td>3</td>\n",
       "      <td>1974</td>\n",
       "    </tr>\n",
       "    <tr>\n",
       "      <th>1975</th>\n",
       "      <td>0</td>\n",
       "      <td>1975</td>\n",
       "    </tr>\n",
       "    <tr>\n",
       "      <th>1976</th>\n",
       "      <td>0</td>\n",
       "      <td>1976</td>\n",
       "    </tr>\n",
       "    <tr>\n",
       "      <th>1977</th>\n",
       "      <td>6</td>\n",
       "      <td>1977</td>\n",
       "    </tr>\n",
       "    <tr>\n",
       "      <th>1978</th>\n",
       "      <td>3</td>\n",
       "      <td>1978</td>\n",
       "    </tr>\n",
       "    <tr>\n",
       "      <th>1979</th>\n",
       "      <td>0</td>\n",
       "      <td>1979</td>\n",
       "    </tr>\n",
       "    <tr>\n",
       "      <th>1980</th>\n",
       "      <td>2</td>\n",
       "      <td>1980</td>\n",
       "    </tr>\n",
       "    <tr>\n",
       "      <th>1981</th>\n",
       "      <td>3</td>\n",
       "      <td>1981</td>\n",
       "    </tr>\n",
       "    <tr>\n",
       "      <th>1982</th>\n",
       "      <td>2</td>\n",
       "      <td>1982</td>\n",
       "    </tr>\n",
       "    <tr>\n",
       "      <th>1983</th>\n",
       "      <td>2</td>\n",
       "      <td>1983</td>\n",
       "    </tr>\n",
       "    <tr>\n",
       "      <th>1984</th>\n",
       "      <td>2</td>\n",
       "      <td>1984</td>\n",
       "    </tr>\n",
       "    <tr>\n",
       "      <th>1985</th>\n",
       "      <td>6</td>\n",
       "      <td>1985</td>\n",
       "    </tr>\n",
       "    <tr>\n",
       "      <th>1986</th>\n",
       "      <td>6</td>\n",
       "      <td>1986</td>\n",
       "    </tr>\n",
       "    <tr>\n",
       "      <th>1987</th>\n",
       "      <td>3</td>\n",
       "      <td>1987</td>\n",
       "    </tr>\n",
       "    <tr>\n",
       "      <th>1988</th>\n",
       "      <td>2</td>\n",
       "      <td>1988</td>\n",
       "    </tr>\n",
       "    <tr>\n",
       "      <th>1989</th>\n",
       "      <td>0</td>\n",
       "      <td>1989</td>\n",
       "    </tr>\n",
       "    <tr>\n",
       "      <th>1990</th>\n",
       "      <td>6</td>\n",
       "      <td>1990</td>\n",
       "    </tr>\n",
       "    <tr>\n",
       "      <th>1991</th>\n",
       "      <td>3</td>\n",
       "      <td>1991</td>\n",
       "    </tr>\n",
       "    <tr>\n",
       "      <th>1992</th>\n",
       "      <td>3</td>\n",
       "      <td>1992</td>\n",
       "    </tr>\n",
       "    <tr>\n",
       "      <th>1993</th>\n",
       "      <td>6</td>\n",
       "      <td>1993</td>\n",
       "    </tr>\n",
       "    <tr>\n",
       "      <th>1994</th>\n",
       "      <td>2</td>\n",
       "      <td>1994</td>\n",
       "    </tr>\n",
       "    <tr>\n",
       "      <th>1995</th>\n",
       "      <td>2</td>\n",
       "      <td>1995</td>\n",
       "    </tr>\n",
       "    <tr>\n",
       "      <th>1996</th>\n",
       "      <td>3</td>\n",
       "      <td>1996</td>\n",
       "    </tr>\n",
       "    <tr>\n",
       "      <th>1997</th>\n",
       "      <td>6</td>\n",
       "      <td>1997</td>\n",
       "    </tr>\n",
       "    <tr>\n",
       "      <th>1998</th>\n",
       "      <td>3</td>\n",
       "      <td>1998</td>\n",
       "    </tr>\n",
       "    <tr>\n",
       "      <th>1999</th>\n",
       "      <td>0</td>\n",
       "      <td>1999</td>\n",
       "    </tr>\n",
       "  </tbody>\n",
       "</table>\n",
       "<p>2000 rows × 2 columns</p>\n",
       "</div>"
      ],
      "text/plain": [
       "      class  image_index\n",
       "0         0            0\n",
       "1         3            1\n",
       "2         3            2\n",
       "3         6            3\n",
       "4         2            4\n",
       "5         6            5\n",
       "6         6            6\n",
       "7         6            7\n",
       "8         3            8\n",
       "9         6            9\n",
       "10        3           10\n",
       "11        6           11\n",
       "12        2           12\n",
       "13        2           13\n",
       "14        2           14\n",
       "15        3           15\n",
       "16        2           16\n",
       "17        6           17\n",
       "18        3           18\n",
       "19        3           19\n",
       "20        3           20\n",
       "21        6           21\n",
       "22        0           22\n",
       "23        6           23\n",
       "24        3           24\n",
       "25        3           25\n",
       "26        6           26\n",
       "27        3           27\n",
       "28        3           28\n",
       "29        3           29\n",
       "...     ...          ...\n",
       "1970      3         1970\n",
       "1971      2         1971\n",
       "1972      0         1972\n",
       "1973      0         1973\n",
       "1974      3         1974\n",
       "1975      0         1975\n",
       "1976      0         1976\n",
       "1977      6         1977\n",
       "1978      3         1978\n",
       "1979      0         1979\n",
       "1980      2         1980\n",
       "1981      3         1981\n",
       "1982      2         1982\n",
       "1983      2         1983\n",
       "1984      2         1984\n",
       "1985      6         1985\n",
       "1986      6         1986\n",
       "1987      3         1987\n",
       "1988      2         1988\n",
       "1989      0         1989\n",
       "1990      6         1990\n",
       "1991      3         1991\n",
       "1992      3         1992\n",
       "1993      6         1993\n",
       "1994      2         1994\n",
       "1995      2         1995\n",
       "1996      3         1996\n",
       "1997      6         1997\n",
       "1998      3         1998\n",
       "1999      0         1999\n",
       "\n",
       "[2000 rows x 2 columns]"
      ]
     },
     "execution_count": 43,
     "metadata": {
      "tags": []
     },
     "output_type": "execute_result"
    }
   ],
   "source": [
    "df = df[['image_index', 'class']]\n",
    "df"
   ]
  },
  {
   "cell_type": "markdown",
   "metadata": {},
   "source": [
    "### Saved it to a csv with my full_name"
   ]
  },
  {
   "cell_type": "code",
   "execution_count": 0,
   "metadata": {
    "colab": {},
    "colab_type": "code",
    "id": "ZzTq8FqHDa_0"
   },
   "outputs": [],
   "source": [
    "df.to_csv('manish_edida.csv', index = False)"
   ]
  },
  {
   "cell_type": "code",
   "execution_count": 0,
   "metadata": {
    "colab": {},
    "colab_type": "code",
    "id": "tTd8WY-kD4PM"
   },
   "outputs": [],
   "source": []
  }
 ],
 "metadata": {
  "colab": {
   "name": "CVTask.ipynb",
   "provenance": [],
   "version": "0.3.2"
  },
  "kernelspec": {
   "display_name": "Python 3",
   "language": "python",
   "name": "python3"
  },
  "language_info": {
   "codemirror_mode": {
    "name": "ipython",
    "version": 3
   },
   "file_extension": ".py",
   "mimetype": "text/x-python",
   "name": "python",
   "nbconvert_exporter": "python",
   "pygments_lexer": "ipython3",
   "version": "3.6.5"
  }
 },
 "nbformat": 4,
 "nbformat_minor": 1
}
